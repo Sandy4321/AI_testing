{
 "cells": [
  {
   "cell_type": "markdown",
   "metadata": {},
   "source": [
    "function generator should produce:\n",
    "* random name: 2-20 with lower case and underscores\n",
    "* random number of parameters: 0 - 5\n",
    "* random parameter names: 1 - 10\n",
    "* a comment with the intended test: `:test:` with n_param random numbers operator output"
   ]
  },
  {
   "cell_type": "markdown",
   "metadata": {},
   "source": [
    "Type if tests:\n",
    "* assertEquals: `f(inputs) == output`\n",
    "* assertNotEquals: `f(inputs) != output`\n",
    "* assertTrue : `f(inputs) is True`\n",
    "* assertFalse : `f(inputs) is False`"
   ]
  },
  {
   "cell_type": "markdown",
   "metadata": {},
   "source": [
    "structure of test:\n",
    "```Python\n",
    "def func(inputs, output):\n",
    "    \"\"\"\n",
    "    Comment\n",
    "    :test: func(input) operator output\n",
    "    \"\"\"\n",
    "    return output\n",
    "```"
   ]
  },
  {
   "cell_type": "markdown",
   "metadata": {},
   "source": [
    "## Generate functions"
   ]
  },
  {
   "cell_type": "code",
   "execution_count": 14,
   "metadata": {
    "collapsed": true
   },
   "outputs": [],
   "source": [
    "import string\n",
    "import random"
   ]
  },
  {
   "cell_type": "code",
   "execution_count": 143,
   "metadata": {
    "collapsed": true
   },
   "outputs": [],
   "source": [
    "operators = [' = ',' != ',' is ',' is not ']"
   ]
  },
  {
   "cell_type": "code",
   "execution_count": 69,
   "metadata": {
    "collapsed": false
   },
   "outputs": [],
   "source": [
    "func_name_len = range(2,21)\n",
    "func_name_chars = list(string.ascii_lowercase)+['_']\n",
    "char_weights = [1]*(len(func_name_chars)-1)+[10] "
   ]
  },
  {
   "cell_type": "code",
   "execution_count": 13,
   "metadata": {
    "collapsed": true
   },
   "outputs": [],
   "source": [
    "param_name_len = range(1,11)\n",
    "n_param = range(1,6)"
   ]
  },
  {
   "cell_type": "code",
   "execution_count": 112,
   "metadata": {
    "collapsed": false
   },
   "outputs": [],
   "source": [
    "# names\n",
    "def rand_func_name():\n",
    "    return ''.join(random.choices(func_name_chars,\n",
    "                                  weights=char_weights, \n",
    "                                  k=random.choice(func_name_len)))"
   ]
  },
  {
   "cell_type": "code",
   "execution_count": 113,
   "metadata": {
    "collapsed": false
   },
   "outputs": [
    {
     "data": {
      "text/plain": [
       "'gfazj___zsl_gferq_eq'"
      ]
     },
     "execution_count": 113,
     "metadata": {},
     "output_type": "execute_result"
    }
   ],
   "source": [
    "rand_func_name()"
   ]
  },
  {
   "cell_type": "code",
   "execution_count": 114,
   "metadata": {
    "collapsed": false
   },
   "outputs": [],
   "source": [
    "#parameters\n",
    "def rand_param_name():\n",
    "    return ''.join(random.choices(func_name_chars[:-1], k=random.choice(param_name_len)))"
   ]
  },
  {
   "cell_type": "code",
   "execution_count": 121,
   "metadata": {
    "collapsed": false
   },
   "outputs": [
    {
     "data": {
      "text/plain": [
       "'wghvqtl'"
      ]
     },
     "execution_count": 121,
     "metadata": {},
     "output_type": "execute_result"
    }
   ],
   "source": [
    "rand_param_name()"
   ]
  },
  {
   "cell_type": "code",
   "execution_count": 122,
   "metadata": {
    "collapsed": true
   },
   "outputs": [],
   "source": [
    "def rand_params():\n",
    "    return [rand_param_name() for _ in range(random.choice(n_param))]"
   ]
  },
  {
   "cell_type": "code",
   "execution_count": 129,
   "metadata": {
    "collapsed": false
   },
   "outputs": [
    {
     "data": {
      "text/plain": [
       "['j', 'hpa', 'kfmelzrw', 'ncixssk', 'dvtqo']"
      ]
     },
     "execution_count": 129,
     "metadata": {},
     "output_type": "execute_result"
    }
   ],
   "source": [
    "rand_params()"
   ]
  },
  {
   "cell_type": "code",
   "execution_count": 355,
   "metadata": {
    "collapsed": false
   },
   "outputs": [],
   "source": [
    "#input\n",
    "def inputs_string(l):\n",
    "    return ', '.join([str(random.randint(0,100)) for _ in range(l)])"
   ]
  },
  {
   "cell_type": "code",
   "execution_count": 146,
   "metadata": {
    "collapsed": true
   },
   "outputs": [],
   "source": [
    "# output\n",
    "def output_value():\n",
    "    return random.choice([random.randint(0,100), True, False])"
   ]
  },
  {
   "cell_type": "code",
   "execution_count": 353,
   "metadata": {
    "collapsed": false
   },
   "outputs": [],
   "source": [
    "# comment\n",
    "def comments(n_inputs, func_name, output_name, output, space='    '):\n",
    "    ope = random.choice(operators)\n",
    "    s = space+'\\\"\\\"\\\"\\n    Comment\\n    :test: ' \n",
    "    s += func_name + '(' \n",
    "    s += inputs_string(n_inputs) \n",
    "    s += ')' \n",
    "    s += ope \n",
    "    if ope in [' is not ',' != ']:\n",
    "        if isinstance(output, bool):\n",
    "            s += str(not output)\n",
    "        else:\n",
    "            s += str(output - output)\n",
    "    else:\n",
    "        s += str(output)\n",
    "    s += '\\n'\n",
    "    s += space+'\\\"\\\"\\\"' \n",
    "    s += '\\n' \n",
    "    s += space+'return '\n",
    "    s += output_name\n",
    "    return s"
   ]
  },
  {
   "cell_type": "code",
   "execution_count": 257,
   "metadata": {
    "collapsed": false
   },
   "outputs": [
    {
     "name": "stdout",
     "output_type": "stream",
     "text": [
      "    \"\"\"\n",
      "    Comment\n",
      "    :test: _pdp_er(51, 79, 23) is not 0\n",
      "    \"\"\"\n",
      "    return u\n"
     ]
    }
   ],
   "source": [
    "print(comments(3, rand_func_name(),rand_param_name(), output_value()))"
   ]
  },
  {
   "cell_type": "code",
   "execution_count": 286,
   "metadata": {
    "collapsed": true
   },
   "outputs": [],
   "source": [
    "def header(func_name,param_list, output_name, output):\n",
    "    s = 'def '\n",
    "    s += func_name\n",
    "    s += '('\n",
    "    s += ', '.join(param_list)\n",
    "    s += ', '\n",
    "    s += output_name\n",
    "    s += ' = ' + str(output)\n",
    "    s += '):\\n'\n",
    "    return s"
   ]
  },
  {
   "cell_type": "code",
   "execution_count": 258,
   "metadata": {
    "collapsed": false
   },
   "outputs": [
    {
     "name": "stdout",
     "output_type": "stream",
     "text": [
      "def iofsgmrdp(rkk, btbqxk, smxh=23):\n",
      "\n",
      "['rkk', 'btbqxk']\n",
      "smxh\n"
     ]
    }
   ],
   "source": [
    "func_name = rand_func_name()\n",
    "inputs_name = rand_params()\n",
    "output_name =rand_param_name()\n",
    "print(header(func_name, inputs_name, output_name, output_value()))\n",
    "print(inputs_name)\n",
    "print(output_name)"
   ]
  },
  {
   "cell_type": "code",
   "execution_count": 262,
   "metadata": {
    "collapsed": false
   },
   "outputs": [],
   "source": [
    "def print_func(funcname, input_params, output_name):\n",
    "    output = output_value()\n",
    "    s = header(funcname, input_params, output_name, output)\n",
    "    s += comments(len(input_params), funcname, output_name, output)\n",
    "    return s"
   ]
  },
  {
   "cell_type": "code",
   "execution_count": 378,
   "metadata": {
    "collapsed": false
   },
   "outputs": [
    {
     "name": "stdout",
     "output_type": "stream",
     "text": [
      "def d___kt_gx_(apuoioqc, c = True):\n",
      "    \"\"\"\n",
      "    Comment\n",
      "    :test: d___kt_gx_(41) is not False\n",
      "    \"\"\"\n",
      "    return c\n"
     ]
    }
   ],
   "source": [
    "func_name = rand_func_name()\n",
    "input_params = rand_params()\n",
    "output_name = rand_param_name()\n",
    "print(print_func(func_name, input_params, output_name))"
   ]
  },
  {
   "cell_type": "code",
   "execution_count": 289,
   "metadata": {
    "collapsed": true
   },
   "outputs": [],
   "source": [
    "def jr(lumdlssoy, iphyzcki, ulbfptsf, scpll, sypbms = 59):\n",
    "    \"\"\"\n",
    "    Comment\n",
    "    :test: jr(70, 80, 87, 51) is not 0\n",
    "    \"\"\"\n",
    "    return sypbms"
   ]
  },
  {
   "cell_type": "markdown",
   "metadata": {},
   "source": [
    "## Generate test function"
   ]
  },
  {
   "cell_type": "code",
   "execution_count": 216,
   "metadata": {
    "collapsed": true
   },
   "outputs": [],
   "source": [
    "import unittest"
   ]
  },
  {
   "cell_type": "code",
   "execution_count": 238,
   "metadata": {
    "collapsed": true
   },
   "outputs": [],
   "source": [
    "tc = unittest.TestCase()"
   ]
  },
  {
   "cell_type": "code",
   "execution_count": 292,
   "metadata": {
    "collapsed": false
   },
   "outputs": [
    {
     "ename": "AssertionError",
     "evalue": "59 == 59 : jr should not produce 59",
     "output_type": "error",
     "traceback": [
      "\u001b[1;31m---------------------------------------------------------------------------\u001b[0m",
      "\u001b[1;31mAssertionError\u001b[0m                            Traceback (most recent call last)",
      "\u001b[1;32m<ipython-input-292-77ce51f087cd>\u001b[0m in \u001b[0;36m<module>\u001b[1;34m\u001b[0m\n\u001b[1;32m----> 1\u001b[1;33m \u001b[0mtc\u001b[0m\u001b[1;33m.\u001b[0m\u001b[0massertNotEqual\u001b[0m\u001b[1;33m(\u001b[0m\u001b[0mjr\u001b[0m\u001b[1;33m(\u001b[0m\u001b[1;36m70\u001b[0m\u001b[1;33m,\u001b[0m \u001b[1;36m80\u001b[0m\u001b[1;33m,\u001b[0m \u001b[1;36m87\u001b[0m\u001b[1;33m,\u001b[0m \u001b[1;36m51\u001b[0m\u001b[1;33m)\u001b[0m\u001b[1;33m,\u001b[0m \u001b[1;36m59\u001b[0m\u001b[1;33m,\u001b[0m \u001b[1;34m\"%s should not produce %d\"\u001b[0m \u001b[1;33m%\u001b[0m\u001b[1;33m(\u001b[0m\u001b[1;34m'jr'\u001b[0m\u001b[1;33m,\u001b[0m\u001b[1;36m59\u001b[0m\u001b[1;33m)\u001b[0m\u001b[1;33m)\u001b[0m\u001b[1;33m\u001b[0m\u001b[0m\n\u001b[0m",
      "\u001b[1;32m~\\Anaconda\\envs\\py36\\lib\\unittest\\case.py\u001b[0m in \u001b[0;36massertNotEqual\u001b[1;34m(self, first, second, msg)\u001b[0m\n\u001b[0;32m    836\u001b[0m             msg = self._formatMessage(msg, '%s == %s' % (safe_repr(first),\n\u001b[0;32m    837\u001b[0m                                                           safe_repr(second)))\n\u001b[1;32m--> 838\u001b[1;33m             \u001b[1;32mraise\u001b[0m \u001b[0mself\u001b[0m\u001b[1;33m.\u001b[0m\u001b[0mfailureException\u001b[0m\u001b[1;33m(\u001b[0m\u001b[0mmsg\u001b[0m\u001b[1;33m)\u001b[0m\u001b[1;33m\u001b[0m\u001b[0m\n\u001b[0m\u001b[0;32m    839\u001b[0m \u001b[1;33m\u001b[0m\u001b[0m\n\u001b[0;32m    840\u001b[0m     def assertAlmostEqual(self, first, second, places=None, msg=None,\n",
      "\u001b[1;31mAssertionError\u001b[0m: 59 == 59 : jr should not produce 59"
     ]
    }
   ],
   "source": [
    "tc.assertNotEqual(jr(70, 80, 87, 51), 59, \"%s should not produce %d\" %('jr',59))"
   ]
  },
  {
   "cell_type": "code",
   "execution_count": 293,
   "metadata": {
    "collapsed": true
   },
   "outputs": [],
   "source": [
    "func_string = print_func(func_name, input_params, output_name)"
   ]
  },
  {
   "cell_type": "code",
   "execution_count": 294,
   "metadata": {
    "collapsed": false
   },
   "outputs": [
    {
     "data": {
      "text/plain": [
       "'def jr(lumdlssoy, iphyzcki, ulbfptsf, scpll, sypbms = True):\\n    \"\"\"\\n    Comment\\n    :test: jr(65, 87, 83, 93) is True\\n    \"\"\"\\n    return sypbms'"
      ]
     },
     "execution_count": 294,
     "metadata": {},
     "output_type": "execute_result"
    }
   ],
   "source": [
    "func_string"
   ]
  },
  {
   "cell_type": "code",
   "execution_count": 295,
   "metadata": {
    "collapsed": true
   },
   "outputs": [],
   "source": [
    "import re"
   ]
  },
  {
   "cell_type": "markdown",
   "metadata": {},
   "source": [
    "define :\n",
    "- function name\n",
    "- inputs\n",
    "- outputs\n",
    "- test function"
   ]
  },
  {
   "cell_type": "code",
   "execution_count": 423,
   "metadata": {
    "collapsed": false
   },
   "outputs": [],
   "source": [
    "# function_name\n",
    "func_name_string = re.search(r\"^\\s+:test:\\s+(\\w+)\",func_string, re.MULTILINE).group(1)"
   ]
  },
  {
   "cell_type": "code",
   "execution_count": 370,
   "metadata": {
    "collapsed": false
   },
   "outputs": [],
   "source": [
    "#inputs\n",
    "in_string = re.search(r\"^\\s+:test:\\s+\\w+\\((.*)\\)\", func_string, re.MULTILINE).group(1)"
   ]
  },
  {
   "cell_type": "code",
   "execution_count": 371,
   "metadata": {
    "collapsed": false
   },
   "outputs": [],
   "source": [
    "input_list = [int(x) for x in in_string.split(',')]"
   ]
  },
  {
   "cell_type": "code",
   "execution_count": 372,
   "metadata": {
    "collapsed": true
   },
   "outputs": [
    {
     "ename": "TypeError",
     "evalue": "jr() missing 2 required positional arguments: 'ulbfptsf' and 'scpll'",
     "output_type": "error",
     "traceback": [
      "\u001b[1;31m---------------------------------------------------------------------------\u001b[0m",
      "\u001b[1;31mTypeError\u001b[0m                                 Traceback (most recent call last)",
      "\u001b[1;32m<ipython-input-372-8ace914c10e4>\u001b[0m in \u001b[0;36m<module>\u001b[1;34m\u001b[0m\n\u001b[1;32m----> 1\u001b[1;33m \u001b[0mjr\u001b[0m\u001b[1;33m(\u001b[0m\u001b[1;33m*\u001b[0m\u001b[0minput_list\u001b[0m\u001b[1;33m)\u001b[0m\u001b[1;33m\u001b[0m\u001b[0m\n\u001b[0m",
      "\u001b[1;31mTypeError\u001b[0m: jr() missing 2 required positional arguments: 'ulbfptsf' and 'scpll'"
     ]
    }
   ],
   "source": [
    "jr(*input_list)"
   ]
  },
  {
   "cell_type": "code",
   "execution_count": 373,
   "metadata": {
    "collapsed": true
   },
   "outputs": [
    {
     "ename": "KeyError",
     "evalue": "'hp__'",
     "output_type": "error",
     "traceback": [
      "\u001b[1;31m---------------------------------------------------------------------------\u001b[0m",
      "\u001b[1;31mKeyError\u001b[0m                                  Traceback (most recent call last)",
      "\u001b[1;32m<ipython-input-373-4377983814c8>\u001b[0m in \u001b[0;36m<module>\u001b[1;34m\u001b[0m\n\u001b[1;32m----> 1\u001b[1;33m \u001b[0mf\u001b[0m \u001b[1;33m=\u001b[0m \u001b[0mlocals\u001b[0m\u001b[1;33m(\u001b[0m\u001b[1;33m)\u001b[0m\u001b[1;33m[\u001b[0m\u001b[0mfunc_name\u001b[0m\u001b[1;33m]\u001b[0m\u001b[1;33m\u001b[0m\u001b[0m\n\u001b[0m",
      "\u001b[1;31mKeyError\u001b[0m: 'hp__'"
     ]
    }
   ],
   "source": [
    "f = locals()[func_name]"
   ]
  },
  {
   "cell_type": "code",
   "execution_count": 374,
   "metadata": {
    "collapsed": true
   },
   "outputs": [
    {
     "ename": "TypeError",
     "evalue": "jr() missing 2 required positional arguments: 'ulbfptsf' and 'scpll'",
     "output_type": "error",
     "traceback": [
      "\u001b[1;31m---------------------------------------------------------------------------\u001b[0m",
      "\u001b[1;31mTypeError\u001b[0m                                 Traceback (most recent call last)",
      "\u001b[1;32m<ipython-input-374-978ba581f92f>\u001b[0m in \u001b[0;36m<module>\u001b[1;34m\u001b[0m\n\u001b[1;32m----> 1\u001b[1;33m \u001b[0mf\u001b[0m\u001b[1;33m(\u001b[0m\u001b[1;33m*\u001b[0m\u001b[0minput_list\u001b[0m\u001b[1;33m)\u001b[0m\u001b[1;33m\u001b[0m\u001b[0m\n\u001b[0m",
      "\u001b[1;31mTypeError\u001b[0m: jr() missing 2 required positional arguments: 'ulbfptsf' and 'scpll'"
     ]
    }
   ],
   "source": [
    "f(*input_list)"
   ]
  },
  {
   "cell_type": "code",
   "execution_count": 347,
   "metadata": {
    "collapsed": false
   },
   "outputs": [],
   "source": [
    "# output\n",
    "output_string = re.search(r\"^\\s+:test:\\s+.*\\s+(\\w+|\\d+)$\", func_string, re.MULTILINE).group(1)"
   ]
  },
  {
   "cell_type": "code",
   "execution_count": 350,
   "metadata": {
    "collapsed": false
   },
   "outputs": [
    {
     "data": {
      "text/plain": [
       "'is '"
      ]
     },
     "execution_count": 350,
     "metadata": {},
     "output_type": "execute_result"
    }
   ],
   "source": [
    "# test function\n",
    "re.search(r\"^\\s+:test:\\s+.*\\)\\s+((\\w+)\\s+){1,2}\\w+\", func_string, re.MULTILINE).group(1)"
   ]
  },
  {
   "cell_type": "code",
   "execution_count": 419,
   "metadata": {
    "collapsed": true
   },
   "outputs": [],
   "source": [
    "func_string = print_func(func_name, input_params, output_name)"
   ]
  },
  {
   "cell_type": "code",
   "execution_count": 420,
   "metadata": {
    "collapsed": false
   },
   "outputs": [
    {
     "data": {
      "text/plain": [
       "'def d___kt_gx_(apuoioqc, c = False):\\n    \"\"\"\\n    Comment\\n    :test: d___kt_gx_(29) is not True\\n    \"\"\"\\n    return c'"
      ]
     },
     "execution_count": 420,
     "metadata": {},
     "output_type": "execute_result"
    }
   ],
   "source": [
    "func_string"
   ]
  },
  {
   "cell_type": "code",
   "execution_count": 473,
   "metadata": {
    "collapsed": false
   },
   "outputs": [],
   "source": [
    "# test function\n",
    "test_string = re.search(r\"^\\s+:test:\\s+.*\\)(\\s+[\\w!= ]+\\s+){1,2}\\w+$\", func_string, re.MULTILINE).group(1)"
   ]
  },
  {
   "cell_type": "code",
   "execution_count": 464,
   "metadata": {
    "collapsed": false
   },
   "outputs": [],
   "source": [
    "def assertion_string(test_string, output_string):\n",
    "    if test_string == ' is not ' and output_string == 'False':\n",
    "        assert_string = 'assertTrue'\n",
    "    elif test_string == ' is not ' and output_string == 'True':\n",
    "        assert_string = 'assertFalse'\n",
    "    elif test_string == ' is ' and output_string == 'False':\n",
    "        assert_string = 'assertFalse'\n",
    "    elif test_string == ' is ' and output_string == 'True':\n",
    "        assert_string = 'assertTrue'\n",
    "    elif test_string == ' is not ' and re.match(r'\\d+', output_string):\n",
    "        assert_string = 'assertNotEqual'\n",
    "    elif test_string == ' is ' and re.match(r'\\d+', output_string):\n",
    "        assert_string = 'assertEqual'\n",
    "    elif test_string == ' != ' and output_string == 'False':\n",
    "        assert_string = 'assertTrue'\n",
    "    elif test_string == ' != ' and output_string == 'True':\n",
    "        assert_string = 'assertFalse'\n",
    "    elif test_string == ' = ' and output_string == 'False':\n",
    "        assert_string = 'assertFalse'\n",
    "    elif test_string == ' = ' and output_string == 'True':\n",
    "        assert_string = 'assertTrue'\n",
    "    elif test_string == ' != ' and re.match(r'\\d+', output_string):\n",
    "        assert_string = 'assertNotEqual'\n",
    "    elif test_string == ' = ' and re.match(r'\\d+', output_string):\n",
    "        assert_string = 'assertEqual'\n",
    "    else:\n",
    "        assert_string = None\n",
    "\n",
    "    return assert_string"
   ]
  },
  {
   "cell_type": "code",
   "execution_count": 465,
   "metadata": {
    "collapsed": false
   },
   "outputs": [
    {
     "data": {
      "text/plain": [
       "'assertFalse'"
      ]
     },
     "execution_count": 465,
     "metadata": {},
     "output_type": "execute_result"
    }
   ],
   "source": [
    "assertion_string(' != ', 'True')"
   ]
  },
  {
   "cell_type": "code",
   "execution_count": 474,
   "metadata": {
    "collapsed": false
   },
   "outputs": [],
   "source": [
    "# test string\n",
    "def test_function_string(func_name_string, test_string, in_string, output_string, space='    '):\n",
    "    s = space+'def test_'+func_name_string+'(self):\\n'\n",
    "    s += space+space+'self.'\n",
    "    s += assertion_string(test_string, output_string)\n",
    "    s += '(' +func_name_string+'('+in_string+')'+','+output_string\n",
    "    s += ')'\n",
    "    return s\n"
   ]
  },
  {
   "cell_type": "code",
   "execution_count": 476,
   "metadata": {
    "collapsed": false
   },
   "outputs": [
    {
     "data": {
      "text/plain": [
       "'    def test_d___kt_gx_(self):\\n        self.assertFalse(d___kt_gx_(56, 13),True)'"
      ]
     },
     "execution_count": 476,
     "metadata": {},
     "output_type": "execute_result"
    }
   ],
   "source": [
    "test_function_string(func_name_string, test_string, in_string, output_string)"
   ]
  },
  {
   "cell_type": "code",
   "execution_count": null,
   "metadata": {
    "collapsed": true
   },
   "outputs": [],
   "source": []
  }
 ],
 "metadata": {
  "kernelspec": {
   "display_name": "Python 3.6 (AI_testing)",
   "language": "python",
   "name": "ait"
  },
  "language_info": {
   "codemirror_mode": {
    "name": "ipython",
    "version": 3
   },
   "file_extension": ".py",
   "mimetype": "text/x-python",
   "name": "python",
   "nbconvert_exporter": "python",
   "pygments_lexer": "ipython3",
   "version": "3.6.3"
  }
 },
 "nbformat": 4,
 "nbformat_minor": 2
}
