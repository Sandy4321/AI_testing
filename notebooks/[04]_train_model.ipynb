{
 "cells": [
  {
   "cell_type": "code",
   "execution_count": 1,
   "metadata": {
    "collapsed": true
   },
   "outputs": [],
   "source": [
    "%load_ext autoreload\n",
    "%autoreload 2"
   ]
  },
  {
   "cell_type": "code",
   "execution_count": 2,
   "metadata": {
    "collapsed": true
   },
   "outputs": [],
   "source": [
    "import sys\n",
    "sys.path.append('../')\n",
    "from test_function_generator import GenerateFunctions\n",
    "from model import UnitTestGenerator"
   ]
  },
  {
   "cell_type": "code",
   "execution_count": 31,
   "metadata": {
    "collapsed": true
   },
   "outputs": [],
   "source": [
    "gf = GenerateFunctions(1000)\n",
    "data = gf.generate_functions()\n",
    "targets = gf.generate_test_functions()"
   ]
  },
  {
   "cell_type": "code",
   "execution_count": 61,
   "metadata": {
    "collapsed": false
   },
   "outputs": [],
   "source": [
    "utg = UnitTestGenerator(data, targets)"
   ]
  },
  {
   "cell_type": "code",
   "execution_count": 62,
   "metadata": {
    "collapsed": false
   },
   "outputs": [
    {
     "name": "stdout",
     "output_type": "stream",
     "text": [
      "Train on 800 samples, validate on 200 samples\n",
      "Epoch 1/10\n",
      "800/800 [==============================] - 1s 723us/step - loss: 0.7271 - main_output_loss: 0.5998 - aux_output_loss: 0.6365 - main_output_acc: 0.7228 - aux_output_acc: 0.6562 - val_loss: 0.6525 - val_main_output_loss: 0.5369 - val_aux_output_loss: 0.5777 - val_main_output_acc: 0.7500 - val_aux_output_acc: 0.6400\b\b\b\b\b\b\b\b\b\b\b\b\b\b\b\b\b\b\b\b\b\b\b\b\b\b\n",
      "Epoch 2/10\n",
      "800/800 [==============================] - 0s 36us/step - loss: 0.5863 - main_output_loss: 0.4886 - aux_output_loss: 0.4887 - main_output_acc: 0.7509 - aux_output_acc: 0.8038 - val_loss: 0.5290 - val_main_output_loss: 0.4475 - val_aux_output_loss: 0.4079 - val_main_output_acc: 0.7500 - val_aux_output_acc: 0.9350\b\b\b\b\b\b\b\b\b\b\b\b\b\b\b\b\b\b\b\b\b\b\b\b\b\n",
      "Epoch 3/10\n",
      "800/800 [==============================] - 0s 36us/step - loss: 0.4560 - main_output_loss: 0.3940 - aux_output_loss: 0.3100 - main_output_acc: 0.7947 - aux_output_acc: 0.9487 - val_loss: 0.4004 - val_main_output_loss: 0.3548 - val_aux_output_loss: 0.2279 - val_main_output_acc: 0.8688 - val_aux_output_acc: 1.0000\b\b\b\b\b\b\b\b\b\b\b\b\b\b\b\b\b\b\b\b\b\b\b\b\b\n",
      "Epoch 4/10\n",
      "800/800 [==============================] - 0s 32us/step - loss: 0.3304 - main_output_loss: 0.2988 - aux_output_loss: 0.1582 - main_output_acc: 0.9097 - aux_output_acc: 1.0000 - val_loss: 0.2790 - val_main_output_loss: 0.2582 - val_aux_output_loss: 0.1036 - val_main_output_acc: 0.9075 - val_aux_output_acc: 1.0000\b\b\b\b\b\b\b\b\b\b\b\b\b\b\b\b\b\b\b\b\b\b\b\b\b\n",
      "Epoch 5/10\n",
      "800/800 [==============================] - 0s 34us/step - loss: 0.2213 - main_output_loss: 0.2077 - aux_output_loss: 0.0680 - main_output_acc: 0.9581 - aux_output_acc: 1.0000 - val_loss: 0.1830 - val_main_output_loss: 0.1744 - val_aux_output_loss: 0.0432 - val_main_output_acc: 0.9725 - val_aux_output_acc: 1.0000\b\b\b\b\b\b\b\b\b\b\b\b\b\b\b\b\b\b\b\b\b\b\b\b\b\n",
      "Epoch 6/10\n",
      "800/800 [==============================] - 0s 34us/step - loss: 0.1386 - main_output_loss: 0.1327 - aux_output_loss: 0.0294 - main_output_acc: 0.9953 - aux_output_acc: 1.0000 - val_loss: 0.1086 - val_main_output_loss: 0.1048 - val_aux_output_loss: 0.0192 - val_main_output_acc: 1.0000 - val_aux_output_acc: 1.0000\b\b\b\b\b\b\b\b\b\b\b\b\b\b\b\b\b\b\b\b\b\b\b\b\b\n",
      "Epoch 7/10\n",
      "800/800 [==============================] - 0s 32us/step - loss: 0.0774 - main_output_loss: 0.0748 - aux_output_loss: 0.0129 - main_output_acc: 1.0000 - aux_output_acc: 1.0000 - val_loss: 0.0574 - val_main_output_loss: 0.0556 - val_aux_output_loss: 0.0088 - val_main_output_acc: 1.0000 - val_aux_output_acc: 1.0000\b\b\b\b\b\b\b\b\b\b\b\b\b\b\b\b\b\b\b\b\b\b\b\b\b\n",
      "Epoch 8/10\n",
      "800/800 [==============================] - 0s 32us/step - loss: 0.0384 - main_output_loss: 0.0372 - aux_output_loss: 0.0056 - main_output_acc: 1.0000 - aux_output_acc: 1.0000 - val_loss: 0.0263 - val_main_output_loss: 0.0255 - val_aux_output_loss: 0.0037 - val_main_output_acc: 1.0000 - val_aux_output_acc: 1.0000\b\b\b\b\b\b\b\b\b\b\b\b\b\b\b\b\b\b\b\b\b\b\b\b\b\n",
      "Epoch 9/10\n",
      "800/800 [==============================] - 0s 32us/step - loss: 0.0168 - main_output_loss: 0.0163 - aux_output_loss: 0.0024 - main_output_acc: 1.0000 - aux_output_acc: 1.0000 - val_loss: 0.0108 - val_main_output_loss: 0.0105 - val_aux_output_loss: 0.0015 - val_main_output_acc: 1.0000 - val_aux_output_acc: 1.0000\b\b\b\b\b\b\b\b\b\b\b\b\b\b\b\b\b\b\b\b\b\b\b\b\b\n",
      "Epoch 10/10\n",
      "800/800 [==============================] - 0s 31us/step - loss: 0.0066 - main_output_loss: 0.0065 - aux_output_loss: 9.3120e-04 - main_output_acc: 1.0000 - aux_output_acc: 1.0000 - val_loss: 0.0040 - val_main_output_loss: 0.0039 - val_aux_output_loss: 5.5601e-04 - val_main_output_acc: 1.0000 - val_aux_output_acc: 1.0000\b\b\b\b\b\b\b\b\b\b\b\b\b\b\b\b\b\n"
     ]
    }
   ],
   "source": [
    "utg.training(epochs=10, batchsize=32)"
   ]
  },
  {
   "cell_type": "code",
   "execution_count": 63,
   "metadata": {
    "collapsed": true
   },
   "outputs": [],
   "source": [
    "gf2 = GenerateFunctions(20, meaningful_names=True)"
   ]
  },
  {
   "cell_type": "code",
   "execution_count": 64,
   "metadata": {
    "collapsed": false
   },
   "outputs": [],
   "source": [
    "data2 = gf2.generate_functions()"
   ]
  },
  {
   "cell_type": "code",
   "execution_count": 65,
   "metadata": {
    "collapsed": true
   },
   "outputs": [],
   "source": [
    "utg.batch_predict(data2, '../source.py', '../test.py')"
   ]
  },
  {
   "cell_type": "code",
   "execution_count": null,
   "metadata": {
    "collapsed": true
   },
   "outputs": [],
   "source": []
  }
 ],
 "metadata": {
  "kernelspec": {
   "display_name": "Python 3.6 (AI_testing)",
   "language": "python",
   "name": "ait"
  },
  "language_info": {
   "codemirror_mode": {
    "name": "ipython",
    "version": 3
   },
   "file_extension": ".py",
   "mimetype": "text/x-python",
   "name": "python",
   "nbconvert_exporter": "python",
   "pygments_lexer": "ipython3",
   "version": "3.6.3"
  }
 },
 "nbformat": 4,
 "nbformat_minor": 2
}
