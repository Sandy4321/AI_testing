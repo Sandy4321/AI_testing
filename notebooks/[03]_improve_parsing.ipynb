{
 "cells": [
  {
   "cell_type": "code",
   "execution_count": 1,
   "metadata": {
    "collapsed": true
   },
   "outputs": [],
   "source": [
    "import sys\n",
    "import numpy as np\n",
    "import re"
   ]
  },
  {
   "cell_type": "code",
   "execution_count": 2,
   "metadata": {
    "collapsed": true
   },
   "outputs": [],
   "source": [
    "sys.path.append('../')"
   ]
  },
  {
   "cell_type": "code",
   "execution_count": 3,
   "metadata": {
    "collapsed": true
   },
   "outputs": [],
   "source": [
    "from test_function_generator import GenerateFunctions"
   ]
  },
  {
   "cell_type": "code",
   "execution_count": 4,
   "metadata": {
    "collapsed": true
   },
   "outputs": [],
   "source": [
    "gf = GenerateFunctions(100)"
   ]
  },
  {
   "cell_type": "code",
   "execution_count": 5,
   "metadata": {
    "collapsed": true
   },
   "outputs": [],
   "source": [
    "data = gf.generate_functions()\n",
    "targets = gf.generate_test_functions()"
   ]
  },
  {
   "cell_type": "code",
   "execution_count": 6,
   "metadata": {
    "collapsed": false
   },
   "outputs": [
    {
     "data": {
      "text/plain": [
       "['\\n\\ndef wahixrnw_hya_bpcn(oejq, mb, hu, wudd = 54):\\n    \"\"\"\\n    Comment\\n    :test: wahixrnw_hya_bpcn(38, 44, 67) is 54\\n    \"\"\"\\n    return wudd',\n",
       " '\\n\\ndef amc(vya, shzu, hoodmls = True):\\n    \"\"\"\\n    Comment\\n    :test: amc(30, 70) != False\\n    \"\"\"\\n    return hoodmls']"
      ]
     },
     "execution_count": 6,
     "metadata": {},
     "output_type": "execute_result"
    }
   ],
   "source": [
    "data[:2]"
   ]
  },
  {
   "cell_type": "code",
   "execution_count": 7,
   "metadata": {
    "collapsed": false
   },
   "outputs": [
    {
     "data": {
      "text/plain": [
       "['\\n\\n    def test_wahixrnw_hya_bpcn(self):\\n        self.assertEqual(wahixrnw_hya_bpcn(38, 44, 67),54)',\n",
       " '\\n\\n    def test_amc(self):\\n        self.assertTrue(amc(30, 70))']"
      ]
     },
     "execution_count": 7,
     "metadata": {},
     "output_type": "execute_result"
    }
   ],
   "source": [
    "targets[:2]"
   ]
  },
  {
   "cell_type": "markdown",
   "metadata": {},
   "source": [
    "The main task is to learn to transform the intent in the test comment into an assertion. Thus it is a semi structured text to parse."
   ]
  },
  {
   "cell_type": "code",
   "execution_count": 54,
   "metadata": {
    "collapsed": false
   },
   "outputs": [
    {
     "data": {
      "text/plain": [
       "'!='"
      ]
     },
     "execution_count": 54,
     "metadata": {},
     "output_type": "execute_result"
    }
   ],
   "source": [
    "# parse intent\n",
    "s = re.search(r'^\\s+:test: (\\w+\\(.*\\)) (.*) (\\w+|\\d+)$', data[1], re.MULTILINE)\n",
    "intent = s.group(2)\n",
    "intent"
   ]
  },
  {
   "cell_type": "code",
   "execution_count": 56,
   "metadata": {
    "collapsed": false
   },
   "outputs": [
    {
     "data": {
      "text/plain": [
       "'False'"
      ]
     },
     "execution_count": 56,
     "metadata": {},
     "output_type": "execute_result"
    }
   ],
   "source": [
    "expected_result = s.group(3)\n",
    "expected_result"
   ]
  },
  {
   "cell_type": "code",
   "execution_count": 57,
   "metadata": {
    "collapsed": false
   },
   "outputs": [
    {
     "data": {
      "text/plain": [
       "'amc(30, 70)'"
      ]
     },
     "execution_count": 57,
     "metadata": {},
     "output_type": "execute_result"
    }
   ],
   "source": [
    "function_signature = s.group(1)\n",
    "function_signature"
   ]
  },
  {
   "cell_type": "code",
   "execution_count": 58,
   "metadata": {
    "collapsed": false
   },
   "outputs": [
    {
     "data": {
      "text/plain": [
       "'amc'"
      ]
     },
     "execution_count": 58,
     "metadata": {},
     "output_type": "execute_result"
    }
   ],
   "source": [
    "function_name = function_signature.split('(')[0]\n",
    "function_name"
   ]
  },
  {
   "cell_type": "code",
   "execution_count": 59,
   "metadata": {
    "collapsed": false
   },
   "outputs": [
    {
     "data": {
      "text/plain": [
       "'    def test_amc(self):'"
      ]
     },
     "execution_count": 59,
     "metadata": {},
     "output_type": "execute_result"
    }
   ],
   "source": [
    "test_function_name = '    def test_'+function_name+'(self):'\n",
    "test_function_name"
   ]
  },
  {
   "cell_type": "code",
   "execution_count": 62,
   "metadata": {
    "collapsed": false
   },
   "outputs": [
    {
     "name": "stdout",
     "output_type": "stream",
     "text": [
      "    def test_amc(self):\n",
      "        self.ASSERTION(amc(30, 70)[,False])\n"
     ]
    }
   ],
   "source": [
    "#target\n",
    "print(test_function_name + '\\n        self.' + 'ASSERTION' + '(' + function_signature + '[,' + expected_result + '])')"
   ]
  },
  {
   "cell_type": "markdown",
   "metadata": {},
   "source": [
    "Thus inputs are the intent and expected result and the targets are ASSERTION and OPTIONNAL_VALUE. ASSERTION is categorical and the OPTIONAL value is binary to include or not the expected result."
   ]
  },
  {
   "cell_type": "code",
   "execution_count": 67,
   "metadata": {
    "collapsed": true
   },
   "outputs": [],
   "source": [
    "def parse_intents(data):\n",
    "    function_signature = []\n",
    "    function_name = []\n",
    "    intent = []\n",
    "    expected_result = []\n",
    "    for line in data:\n",
    "        s = re.search(r'^\\s+:test: (\\w+\\(.*\\)) (.*) (\\w+|\\d+)$', line, re.MULTILINE)\n",
    "        function_signature.append(s.group(1))\n",
    "        function_name.append(s.group(1).split('(')[0])\n",
    "        intent.append(s.group(2))\n",
    "        expected_result.append(s.group(3))\n",
    "    return function_name, function_signature, intent, expected_result"
   ]
  },
  {
   "cell_type": "code",
   "execution_count": 68,
   "metadata": {
    "collapsed": false
   },
   "outputs": [],
   "source": [
    "test_names, fn_signatures, intents, expected_results = parse_intents(data)"
   ]
  },
  {
   "cell_type": "code",
   "execution_count": 69,
   "metadata": {
    "collapsed": false
   },
   "outputs": [
    {
     "data": {
      "text/plain": [
       "['is', '!=', 'is not', 'is not', '!=']"
      ]
     },
     "execution_count": 69,
     "metadata": {},
     "output_type": "execute_result"
    }
   ],
   "source": [
    "intents[:5]"
   ]
  },
  {
   "cell_type": "code",
   "execution_count": 70,
   "metadata": {
    "collapsed": false
   },
   "outputs": [
    {
     "data": {
      "text/plain": [
       "['54', 'False', 'True', 'True', '0']"
      ]
     },
     "execution_count": 70,
     "metadata": {},
     "output_type": "execute_result"
    }
   ],
   "source": [
    "expected_results[:5]"
   ]
  },
  {
   "cell_type": "markdown",
   "metadata": {},
   "source": [
    "### Parse targets"
   ]
  },
  {
   "cell_type": "code",
   "execution_count": 71,
   "metadata": {
    "collapsed": false
   },
   "outputs": [
    {
     "data": {
      "text/plain": [
       "['\\n\\n    def test_wahixrnw_hya_bpcn(self):\\n        self.assertEqual(wahixrnw_hya_bpcn(38, 44, 67),54)',\n",
       " '\\n\\n    def test_amc(self):\\n        self.assertTrue(amc(30, 70))',\n",
       " '\\n\\n    def test_l_fo_pr(self):\\n        self.assertFalse(l_fo_pr(95, 3, 5, 68, 63))']"
      ]
     },
     "execution_count": 71,
     "metadata": {},
     "output_type": "execute_result"
    }
   ],
   "source": [
    "targets[:3]"
   ]
  },
  {
   "cell_type": "code",
   "execution_count": 77,
   "metadata": {
    "collapsed": false
   },
   "outputs": [],
   "source": [
    "a = re.search(r'^\\s+self.(\\w+)\\(.*\\)(.*)\\)$', targets[1], re.MULTILINE)"
   ]
  },
  {
   "cell_type": "code",
   "execution_count": 78,
   "metadata": {
    "collapsed": false
   },
   "outputs": [
    {
     "data": {
      "text/plain": [
       "'assertTrue'"
      ]
     },
     "execution_count": 78,
     "metadata": {},
     "output_type": "execute_result"
    }
   ],
   "source": [
    "assertion = a.group(1)\n",
    "assertion"
   ]
  },
  {
   "cell_type": "code",
   "execution_count": 79,
   "metadata": {
    "collapsed": false
   },
   "outputs": [
    {
     "data": {
      "text/plain": [
       "''"
      ]
     },
     "execution_count": 79,
     "metadata": {},
     "output_type": "execute_result"
    }
   ],
   "source": [
    "optional_result = a.group(2)\n",
    "optional_result"
   ]
  },
  {
   "cell_type": "code",
   "execution_count": 80,
   "metadata": {
    "collapsed": true
   },
   "outputs": [],
   "source": [
    "def parse_targets(targets):\n",
    "    assertion = []\n",
    "    optional_result = []\n",
    "    for line in targets:\n",
    "        a = re.search(r'^\\s+self.(\\w+)\\(.*\\)(.*)\\)$', line, re.MULTILINE)\n",
    "        assertion.append(a.group(1))\n",
    "        optional_result.append(a.group(2))\n",
    "    return assertion, optional_result"
   ]
  },
  {
   "cell_type": "code",
   "execution_count": 81,
   "metadata": {
    "collapsed": true
   },
   "outputs": [],
   "source": [
    "assertions, optional_results = parse_targets(targets)"
   ]
  },
  {
   "cell_type": "code",
   "execution_count": 82,
   "metadata": {
    "collapsed": false
   },
   "outputs": [
    {
     "data": {
      "text/plain": [
       "['assertEqual', 'assertTrue', 'assertFalse', 'assertFalse', 'assertNotEqual']"
      ]
     },
     "execution_count": 82,
     "metadata": {},
     "output_type": "execute_result"
    }
   ],
   "source": [
    "assertions[:5]"
   ]
  },
  {
   "cell_type": "code",
   "execution_count": 83,
   "metadata": {
    "collapsed": false
   },
   "outputs": [
    {
     "data": {
      "text/plain": [
       "[',54', '', '', '', ',0']"
      ]
     },
     "execution_count": 83,
     "metadata": {},
     "output_type": "execute_result"
    }
   ],
   "source": [
    "optional_results[:5]"
   ]
  },
  {
   "cell_type": "markdown",
   "metadata": {},
   "source": [
    "## Encoding inputs"
   ]
  },
  {
   "cell_type": "code",
   "execution_count": 84,
   "metadata": {
    "collapsed": false
   },
   "outputs": [
    {
     "data": {
      "text/plain": [
       "4"
      ]
     },
     "execution_count": 84,
     "metadata": {},
     "output_type": "execute_result"
    }
   ],
   "source": [
    "len(set(intents))"
   ]
  },
  {
   "cell_type": "code",
   "execution_count": 85,
   "metadata": {
    "collapsed": false
   },
   "outputs": [
    {
     "data": {
      "text/plain": [
       "17"
      ]
     },
     "execution_count": 85,
     "metadata": {},
     "output_type": "execute_result"
    }
   ],
   "source": [
    "len(set(expected_results))"
   ]
  },
  {
   "cell_type": "code",
   "execution_count": 99,
   "metadata": {
    "collapsed": false
   },
   "outputs": [],
   "source": [
    "# binary encoding expected results\n",
    "def encode_expected_results(expected_results):\n",
    "    bin_target = []\n",
    "    for line in expected_results:\n",
    "        try:\n",
    "            int(line)\n",
    "            bin_target.append(1)\n",
    "        except ValueError:\n",
    "            bin_target.append(0)\n",
    "    return bin_target"
   ]
  },
  {
   "cell_type": "code",
   "execution_count": 100,
   "metadata": {
    "collapsed": true
   },
   "outputs": [],
   "source": [
    "bin_exp_results = encode_expected_results(expected_results)"
   ]
  },
  {
   "cell_type": "code",
   "execution_count": 101,
   "metadata": {
    "collapsed": false
   },
   "outputs": [
    {
     "data": {
      "text/plain": [
       "[1, 0, 0, 0, 1, 1, 1, 0, 0, 1]"
      ]
     },
     "execution_count": 101,
     "metadata": {},
     "output_type": "execute_result"
    }
   ],
   "source": [
    "bin_exp_results[:10]"
   ]
  },
  {
   "cell_type": "code",
   "execution_count": 102,
   "metadata": {
    "collapsed": true
   },
   "outputs": [],
   "source": [
    "intent_dict = {x:i for i,x in enumerate(sorted(list(set(intents))))}"
   ]
  },
  {
   "cell_type": "code",
   "execution_count": 103,
   "metadata": {
    "collapsed": false
   },
   "outputs": [
    {
     "data": {
      "text/plain": [
       "{'!=': 0, '=': 1, 'is': 2, 'is not': 3}"
      ]
     },
     "execution_count": 103,
     "metadata": {},
     "output_type": "execute_result"
    }
   ],
   "source": [
    "intent_dict"
   ]
  },
  {
   "cell_type": "code",
   "execution_count": 110,
   "metadata": {
    "collapsed": true
   },
   "outputs": [],
   "source": [
    "def one_hot_encoding_inputs(intents, expected_results):\n",
    "    intent_dict = {x:i for i,x in enumerate(sorted(list(set(intents))))}\n",
    "    exp_res = np.array(encode_expected_results(expected_results), dtype='float32')\n",
    "    ohe = np.zeros((len(intents), len(intent_dict)), dtype='float32')\n",
    "    for i, x in enumerate(intents):\n",
    "        ohe[i,intent_dict[x]] = 1.\n",
    "    return ohe, exp_res"
   ]
  },
  {
   "cell_type": "code",
   "execution_count": 111,
   "metadata": {
    "collapsed": false
   },
   "outputs": [],
   "source": [
    "inputs_data, optional_input = one_hot_encoding_inputs(intents, expected_results)"
   ]
  },
  {
   "cell_type": "code",
   "execution_count": 112,
   "metadata": {
    "collapsed": false
   },
   "outputs": [
    {
     "data": {
      "text/plain": [
       "array([[0., 0., 1., 0.],\n",
       "       [1., 0., 0., 0.],\n",
       "       [0., 0., 0., 1.],\n",
       "       [0., 0., 0., 1.],\n",
       "       [1., 0., 0., 0.]], dtype=float32)"
      ]
     },
     "execution_count": 112,
     "metadata": {},
     "output_type": "execute_result"
    }
   ],
   "source": [
    "inputs_data[:5]"
   ]
  },
  {
   "cell_type": "code",
   "execution_count": 113,
   "metadata": {
    "collapsed": false
   },
   "outputs": [
    {
     "data": {
      "text/plain": [
       "array([1., 0., 0., 0., 1.], dtype=float32)"
      ]
     },
     "execution_count": 113,
     "metadata": {},
     "output_type": "execute_result"
    }
   ],
   "source": [
    "optional_input[:5]"
   ]
  },
  {
   "cell_type": "markdown",
   "metadata": {},
   "source": [
    "## Encoding outputs"
   ]
  },
  {
   "cell_type": "code",
   "execution_count": 107,
   "metadata": {
    "collapsed": true
   },
   "outputs": [],
   "source": [
    "def one_hot_encoding_targets(assertions, optional_results):\n",
    "    assertion_dict = {x:i for i,x in enumerate(sorted(list(set(assertions))))}\n",
    "    opt_res = np.array([1. if x else 0. for x in optional_results], dtype='float32')\n",
    "    ohe = np.zeros((len(assertions), len(assertion_dict)), dtype='float32')\n",
    "    for i, a in enumerate(assertions):\n",
    "        ohe[i,assertion_dict[a]] = 1.\n",
    "    return ohe, opt_res"
   ]
  },
  {
   "cell_type": "code",
   "execution_count": 114,
   "metadata": {
    "collapsed": true
   },
   "outputs": [],
   "source": [
    "output_data, optional_output = one_hot_encoding_targets(assertions, optional_results)"
   ]
  },
  {
   "cell_type": "code",
   "execution_count": 115,
   "metadata": {
    "collapsed": false
   },
   "outputs": [
    {
     "data": {
      "text/plain": [
       "array([[1., 0., 0., 0.],\n",
       "       [0., 0., 0., 1.],\n",
       "       [0., 1., 0., 0.],\n",
       "       [0., 1., 0., 0.],\n",
       "       [0., 0., 1., 0.]], dtype=float32)"
      ]
     },
     "execution_count": 115,
     "metadata": {},
     "output_type": "execute_result"
    }
   ],
   "source": [
    "output_data[:5]"
   ]
  },
  {
   "cell_type": "code",
   "execution_count": 116,
   "metadata": {
    "collapsed": false
   },
   "outputs": [
    {
     "data": {
      "text/plain": [
       "array([1., 0., 0., 0., 1.])"
      ]
     },
     "execution_count": 116,
     "metadata": {},
     "output_type": "execute_result"
    }
   ],
   "source": [
    "optional_output[:5]"
   ]
  },
  {
   "cell_type": "markdown",
   "metadata": {},
   "source": [
    "## Model double inputs and double outputs"
   ]
  },
  {
   "cell_type": "code",
   "execution_count": 118,
   "metadata": {
    "collapsed": true
   },
   "outputs": [],
   "source": [
    "import tensorflow as tf\n",
    "from tensorflow.keras.models import Model\n",
    "from tensorflow.keras.layers import Input, Dense, concatenate"
   ]
  },
  {
   "cell_type": "code",
   "execution_count": 137,
   "metadata": {
    "collapsed": false
   },
   "outputs": [
    {
     "name": "stdout",
     "output_type": "stream",
     "text": [
      "__________________________________________________________________________________________________\n",
      "Layer (type)                    Output Shape         Param #     Connected to                     \n",
      "==================================================================================================\n",
      "main_input (InputLayer)         (None, 4)            0                                            \n",
      "__________________________________________________________________________________________________\n",
      "aux_input (InputLayer)          (None, 1)            0                                            \n",
      "__________________________________________________________________________________________________\n",
      "concatenate_5 (Concatenate)     (None, 5)            0           main_input[0][0]                 \n",
      "                                                                 aux_input[0][0]                  \n",
      "__________________________________________________________________________________________________\n",
      "dense_15 (Dense)                (None, 32)           192         concatenate_5[0][0]              \n",
      "__________________________________________________________________________________________________\n",
      "dense_16 (Dense)                (None, 32)           1056        dense_15[0][0]                   \n",
      "__________________________________________________________________________________________________\n",
      "dense_17 (Dense)                (None, 32)           1056        dense_16[0][0]                   \n",
      "__________________________________________________________________________________________________\n",
      "main_output (Dense)             (None, 4)            132         dense_17[0][0]                   \n",
      "__________________________________________________________________________________________________\n",
      "aux_output (Dense)              (None, 1)            33          dense_17[0][0]                   \n",
      "==================================================================================================\n",
      "Total params: 2,469\n",
      "Trainable params: 2,469\n",
      "Non-trainable params: 0\n",
      "__________________________________________________________________________________________________\n"
     ]
    }
   ],
   "source": [
    "main_input = Input(shape=(4,), name='main_input')\n",
    "aux_input = Input(shape=(1,), name='aux_input')\n",
    "x = concatenate([main_input, aux_input])\n",
    "x = Dense(32, activation='relu')(x)\n",
    "x = Dense(32, activation='relu')(x)\n",
    "x = Dense(32, activation='relu')(x)\n",
    "main_output = Dense(4, activation='sigmoid', name='main_output')(x)\n",
    "aux_output = Dense(1, activation='sigmoid', name='aux_output')(x)\n",
    "model = Model(inputs=[main_input, aux_input], outputs=[main_output, aux_output])\n",
    "model.summary()"
   ]
  },
  {
   "cell_type": "code",
   "execution_count": 138,
   "metadata": {
    "collapsed": true
   },
   "outputs": [],
   "source": [
    "model.compile(optimizer='rmsprop', \n",
    "              loss='binary_crossentropy', \n",
    "              loss_weights=[1.,0.2],\n",
    "             metrics=['acc'])"
   ]
  },
  {
   "cell_type": "code",
   "execution_count": 139,
   "metadata": {
    "collapsed": false
   },
   "outputs": [
    {
     "name": "stdout",
     "output_type": "stream",
     "text": [
      "Train on 80 samples, validate on 20 samples\n",
      "Epoch 1/100\n",
      "80/80 [==============================] - 1s 7ms/step - loss: 0.8164 - main_output_loss: 0.6796 - aux_output_loss: 0.6841 - main_output_acc: 0.5531 - aux_output_acc: 0.5375 - val_loss: 0.7963 - val_main_output_loss: 0.6647 - val_aux_output_loss: 0.6579 - val_main_output_acc: 0.7500 - val_aux_output_acc: 0.7500\b\b\b\b\b\b\b\b\b\b\b\b\b\b\b\b\b\b\b\b\b\b\b\b\n",
      "Epoch 2/100\n",
      "80/80 [==============================] - 0s 137us/step - loss: 0.7766 - main_output_loss: 0.6421 - aux_output_loss: 0.6728 - main_output_acc: 0.8063 - aux_output_acc: 0.6750 - val_loss: 0.7697 - val_main_output_loss: 0.6421 - val_aux_output_loss: 0.6380 - val_main_output_acc: 0.7875 - val_aux_output_acc: 0.9000\b\b\b\b\b\b\b\b\b\b\b\b\b\b\b\b\b\b\b\b\b\b\n",
      "Epoch 3/100\n",
      "80/80 [==============================] - 0s 150us/step - loss: 0.7429 - main_output_loss: 0.6112 - aux_output_loss: 0.6587 - main_output_acc: 0.8187 - aux_output_acc: 0.8125 - val_loss: 0.7427 - val_main_output_loss: 0.6200 - val_aux_output_loss: 0.6133 - val_main_output_acc: 0.7750 - val_aux_output_acc: 0.9000\b\b\b\b\b\b\b\b\b\b\b\b\b\b\b\b\b\b\b\b\b\b\n",
      "Epoch 4/100\n",
      "80/80 [==============================] - 0s 163us/step - loss: 0.7104 - main_output_loss: 0.5822 - aux_output_loss: 0.6412 - main_output_acc: 0.8063 - aux_output_acc: 0.8250 - val_loss: 0.7147 - val_main_output_loss: 0.5977 - val_aux_output_loss: 0.5849 - val_main_output_acc: 0.7750 - val_aux_output_acc: 0.9000\b\b\b\b\b\b\b\b\b\b\b\b\b\b\b\b\b\b\b\b\b\b\n",
      "Epoch 5/100\n",
      "80/80 [==============================] - 0s 162us/step - loss: 0.6770 - main_output_loss: 0.5530 - aux_output_loss: 0.6203 - main_output_acc: 0.8063 - aux_output_acc: 0.8250 - val_loss: 0.6886 - val_main_output_loss: 0.5770 - val_aux_output_loss: 0.5577 - val_main_output_acc: 0.7750 - val_aux_output_acc: 0.9000\b\b\b\b\b\b\b\b\b\b\b\b\b\b\b\b\b\b\b\b\b\b\n",
      "Epoch 6/100\n",
      "80/80 [==============================] - 0s 137us/step - loss: 0.6433 - main_output_loss: 0.5245 - aux_output_loss: 0.5940 - main_output_acc: 0.8063 - aux_output_acc: 0.8250 - val_loss: 0.6591 - val_main_output_loss: 0.5538 - val_aux_output_loss: 0.5263 - val_main_output_acc: 0.7750 - val_aux_output_acc: 0.9000\b\b\b\b\b\b\b\b\b\b\b\b\b\b\b\b\b\b\b\b\b\b\n",
      "Epoch 7/100\n",
      "80/80 [==============================] - 0s 137us/step - loss: 0.6090 - main_output_loss: 0.4964 - aux_output_loss: 0.5632 - main_output_acc: 0.8063 - aux_output_acc: 0.8250 - val_loss: 0.6321 - val_main_output_loss: 0.5342 - val_aux_output_loss: 0.4895 - val_main_output_acc: 0.7750 - val_aux_output_acc: 0.9000\b\b\b\b\b\b\b\b\b\b\b\b\b\b\b\b\b\b\b\b\b\b\n",
      "Epoch 8/100\n",
      "80/80 [==============================] - 0s 150us/step - loss: 0.5743 - main_output_loss: 0.4694 - aux_output_loss: 0.5245 - main_output_acc: 0.8063 - aux_output_acc: 0.8250 - val_loss: 0.6098 - val_main_output_loss: 0.5194 - val_aux_output_loss: 0.4520 - val_main_output_acc: 0.7750 - val_aux_output_acc: 0.9500\b\b\b\b\b\b\b\b\b\b\b\b\b\b\b\b\b\b\b\b\b\b\n",
      "Epoch 9/100\n",
      "80/80 [==============================] - 0s 137us/step - loss: 0.5382 - main_output_loss: 0.4436 - aux_output_loss: 0.4734 - main_output_acc: 0.8063 - aux_output_acc: 0.9375 - val_loss: 0.5799 - val_main_output_loss: 0.4994 - val_aux_output_loss: 0.4021 - val_main_output_acc: 0.7750 - val_aux_output_acc: 0.9500\b\b\b\b\b\b\b\b\b\b\b\b\b\b\b\b\b\b\b\b\b\b\n",
      "Epoch 10/100\n",
      "80/80 [==============================] - 0s 125us/step - loss: 0.5024 - main_output_loss: 0.4169 - aux_output_loss: 0.4278 - main_output_acc: 0.8187 - aux_output_acc: 0.9750 - val_loss: 0.5596 - val_main_output_loss: 0.4878 - val_aux_output_loss: 0.3590 - val_main_output_acc: 0.7125 - val_aux_output_acc: 1.0000\b\b\b\b\b\b\b\b\b\b\b\b\b\b\b\b\b\b\b\b\b\b\n",
      "Epoch 11/100\n",
      "80/80 [==============================] - 0s 125us/step - loss: 0.4621 - main_output_loss: 0.3878 - aux_output_loss: 0.3718 - main_output_acc: 0.8375 - aux_output_acc: 1.0000 - val_loss: 0.5332 - val_main_output_loss: 0.4721 - val_aux_output_loss: 0.3055 - val_main_output_acc: 0.7125 - val_aux_output_acc: 1.0000\b\b\b\b\b\b\b\b\b\b\b\b\b\b\b\b\b\b\b\b\b\b\n",
      "Epoch 12/100\n",
      "80/80 [==============================] - 0s 125us/step - loss: 0.4227 - main_output_loss: 0.3601 - aux_output_loss: 0.3128 - main_output_acc: 0.8375 - aux_output_acc: 1.0000 - val_loss: 0.5163 - val_main_output_loss: 0.4647 - val_aux_output_loss: 0.2578 - val_main_output_acc: 0.7250 - val_aux_output_acc: 1.0000\b\b\b\b\b\b\b\b\b\b\b\b\b\b\b\b\b\b\b\b\b\b\n",
      "Epoch 13/100\n",
      "80/80 [==============================] - 0s 125us/step - loss: 0.3870 - main_output_loss: 0.3346 - aux_output_loss: 0.2618 - main_output_acc: 0.8625 - aux_output_acc: 1.0000 - val_loss: 0.4959 - val_main_output_loss: 0.4539 - val_aux_output_loss: 0.2099 - val_main_output_acc: 0.7375 - val_aux_output_acc: 1.0000\b\b\b\b\b\b\b\b\b\b\b\b\b\b\b\b\b\b\b\b\b\b\n",
      "Epoch 14/100\n",
      "80/80 [==============================] - 0s 137us/step - loss: 0.3560 - main_output_loss: 0.3124 - aux_output_loss: 0.2176 - main_output_acc: 0.8625 - aux_output_acc: 1.0000 - val_loss: 0.4851 - val_main_output_loss: 0.4508 - val_aux_output_loss: 0.1717 - val_main_output_acc: 0.7375 - val_aux_output_acc: 1.0000\b\b\b\b\b\b\b\b\b\b\b\b\b\b\b\b\b\b\b\b\b\b\n",
      "Epoch 15/100\n",
      "80/80 [==============================] - 0s 125us/step - loss: 0.3269 - main_output_loss: 0.2914 - aux_output_loss: 0.1774 - main_output_acc: 0.8812 - aux_output_acc: 1.0000 - val_loss: 0.4767 - val_main_output_loss: 0.4490 - val_aux_output_loss: 0.1386 - val_main_output_acc: 0.7375 - val_aux_output_acc: 1.0000\b\b\b\b\b\b\b\b\b\b\b\b\b\b\b\b\b\b\b\b\b\b\n",
      "Epoch 16/100\n",
      "80/80 [==============================] - 0s 125us/step - loss: 0.3003 - main_output_loss: 0.2717 - aux_output_loss: 0.1429 - main_output_acc: 0.8812 - aux_output_acc: 1.0000 - val_loss: 0.4732 - val_main_output_loss: 0.4515 - val_aux_output_loss: 0.1088 - val_main_output_acc: 0.7375 - val_aux_output_acc: 1.0000\b\b\b\b\b\b\b\b\b\b\b\b\b\b\b\b\b\b\b\b\b\b\n",
      "Epoch 17/100\n",
      "80/80 [==============================] - 0s 125us/step - loss: 0.2775 - main_output_loss: 0.2550 - aux_output_loss: 0.1121 - main_output_acc: 0.8750 - aux_output_acc: 1.0000 - val_loss: 0.4759 - val_main_output_loss: 0.4588 - val_aux_output_loss: 0.0852 - val_main_output_acc: 0.7375 - val_aux_output_acc: 1.0000\b\b\b\b\b\b\b\b\b\b\b\b\b\b\b\b\b\b\b\b\b\b\n",
      "Epoch 18/100\n",
      "80/80 [==============================] - 0s 125us/step - loss: 0.2556 - main_output_loss: 0.2380 - aux_output_loss: 0.0876 - main_output_acc: 0.8781 - aux_output_acc: 1.0000 - val_loss: 0.4797 - val_main_output_loss: 0.4664 - val_aux_output_loss: 0.0661 - val_main_output_acc: 0.7500 - val_aux_output_acc: 1.0000\b\b\b\b\b\b\b\b\b\b\b\b\b\b\b\b\b\b\b\b\b\b\n",
      "Epoch 19/100\n",
      "80/80 [==============================] - 0s 125us/step - loss: 0.2387 - main_output_loss: 0.2252 - aux_output_loss: 0.0679 - main_output_acc: 0.8906 - aux_output_acc: 1.0000 - val_loss: 0.4866 - val_main_output_loss: 0.4764 - val_aux_output_loss: 0.0510 - val_main_output_acc: 0.7500 - val_aux_output_acc: 1.0000\b\b\b\b\b\b\b\b\b\b\b\b\b\b\b\b\b\b\b\b\b\b\n",
      "Epoch 20/100\n",
      "80/80 [==============================] - 0s 125us/step - loss: 0.2249 - main_output_loss: 0.2145 - aux_output_loss: 0.0524 - main_output_acc: 0.8938 - aux_output_acc: 1.0000 - val_loss: 0.4984 - val_main_output_loss: 0.4906 - val_aux_output_loss: 0.0393 - val_main_output_acc: 0.7500 - val_aux_output_acc: 1.0000\b\b\b\b\b\b\b\b\b\b\b\b\b\b\b\b\b\b\b\b\b\b\n",
      "Epoch 21/100\n",
      "80/80 [==============================] - 0s 125us/step - loss: 0.2140 - main_output_loss: 0.2057 - aux_output_loss: 0.0416 - main_output_acc: 0.8812 - aux_output_acc: 1.0000 - val_loss: 0.5032 - val_main_output_loss: 0.4969 - val_aux_output_loss: 0.0312 - val_main_output_acc: 0.7500 - val_aux_output_acc: 1.0000\b\b\b\b\b\b\b\b\b\b\b\b\b\b\b\b\b\b\b\b\b\b\n",
      "Epoch 22/100\n",
      "80/80 [==============================] - 0s 137us/step - loss: 0.2029 - main_output_loss: 0.1964 - aux_output_loss: 0.0325 - main_output_acc: 0.8969 - aux_output_acc: 1.0000 - val_loss: 0.5343 - val_main_output_loss: 0.5293 - val_aux_output_loss: 0.0246 - val_main_output_acc: 0.7500 - val_aux_output_acc: 1.0000\b\b\b\b\b\b\b\b\b\b\b\b\b\b\b\b\b\b\b\b\b\b\n",
      "Epoch 23/100\n",
      "80/80 [==============================] - 0s 125us/step - loss: 0.1946 - main_output_loss: 0.1895 - aux_output_loss: 0.0255 - main_output_acc: 0.8969 - aux_output_acc: 1.0000 - val_loss: 0.5459 - val_main_output_loss: 0.5421 - val_aux_output_loss: 0.0192 - val_main_output_acc: 0.7500 - val_aux_output_acc: 1.0000\b\b\b\b\b\b\b\b\b\b\b\b\b\b\b\b\b\b\b\b\b\b\n",
      "Epoch 24/100\n",
      "80/80 [==============================] - 0s 125us/step - loss: 0.1873 - main_output_loss: 0.1834 - aux_output_loss: 0.0196 - main_output_acc: 0.8938 - aux_output_acc: 1.0000 - val_loss: 0.5596 - val_main_output_loss: 0.5567 - val_aux_output_loss: 0.0145 - val_main_output_acc: 0.7500 - val_aux_output_acc: 1.0000\b\b\b\b\b\b\b\b\b\b\b\b\b\b\b\b\b\b\b\b\b\b\n",
      "Epoch 25/100\n",
      "80/80 [==============================] - 0s 125us/step - loss: 0.1824 - main_output_loss: 0.1794 - aux_output_loss: 0.0149 - main_output_acc: 0.8906 - aux_output_acc: 1.0000 - val_loss: 0.5808 - val_main_output_loss: 0.5785 - val_aux_output_loss: 0.0114 - val_main_output_acc: 0.7500 - val_aux_output_acc: 1.0000\b\b\b\b\b\b\b\b\b\b\b\b\b\b\b\b\b\b\b\b\b\b\n",
      "Epoch 26/100\n",
      "80/80 [==============================] - 0s 125us/step - loss: 0.1787 - main_output_loss: 0.1763 - aux_output_loss: 0.0116 - main_output_acc: 0.8875 - aux_output_acc: 1.0000 - val_loss: 0.6018 - val_main_output_loss: 0.6000 - val_aux_output_loss: 0.0090 - val_main_output_acc: 0.7500 - val_aux_output_acc: 1.0000\b\b\b\b\b\b\b\b\b\b\b\b\b\b\b\b\b\b\b\b\b\b\n",
      "Epoch 27/100\n",
      "80/80 [==============================] - 0s 112us/step - loss: 0.1751 - main_output_loss: 0.1732 - aux_output_loss: 0.0093 - main_output_acc: 0.8781 - aux_output_acc: 1.0000 - val_loss: 0.6199 - val_main_output_loss: 0.6184 - val_aux_output_loss: 0.0071 - val_main_output_acc: 0.7500 - val_aux_output_acc: 1.0000\b\b\b\b\b\b\b\b\b\b\b\b\b\b\b\b\b\b\b\b\b\b\n",
      "Epoch 28/100\n",
      "80/80 [==============================] - 0s 125us/step - loss: 0.1733 - main_output_loss: 0.1718 - aux_output_loss: 0.0073 - main_output_acc: 0.9000 - aux_output_acc: 1.0000 - val_loss: 0.6515 - val_main_output_loss: 0.6504 - val_aux_output_loss: 0.0056 - val_main_output_acc: 0.7500 - val_aux_output_acc: 1.0000\b\b\b\b\b\b\b\b\b\b\b\b\b\b\b\b\b\b\b\b\b\b\n",
      "Epoch 29/100\n",
      "80/80 [==============================] - 0s 112us/step - loss: 0.1691 - main_output_loss: 0.1679 - aux_output_loss: 0.0059 - main_output_acc: 0.9000 - aux_output_acc: 1.0000 - val_loss: 0.6757 - val_main_output_loss: 0.6748 - val_aux_output_loss: 0.0044 - val_main_output_acc: 0.7500 - val_aux_output_acc: 1.0000\b\b\b\b\b\b\b\b\b\b\b\b\b\b\b\b\b\b\b\b\b\b\n",
      "Epoch 30/100\n",
      "80/80 [==============================] - 0s 125us/step - loss: 0.1676 - main_output_loss: 0.1667 - aux_output_loss: 0.0047 - main_output_acc: 0.8938 - aux_output_acc: 1.0000 - val_loss: 0.6870 - val_main_output_loss: 0.6863 - val_aux_output_loss: 0.0036 - val_main_output_acc: 0.7500 - val_aux_output_acc: 1.0000\b\b\b\b\b\b\b\b\b\b\b\b\b\b\b\b\b\b\b\b\b\b\n",
      "Epoch 31/100\n",
      "80/80 [==============================] - 0s 125us/step - loss: 0.1681 - main_output_loss: 0.1673 - aux_output_loss: 0.0037 - main_output_acc: 0.9000 - aux_output_acc: 1.0000 - val_loss: 0.7175 - val_main_output_loss: 0.7170 - val_aux_output_loss: 0.0028 - val_main_output_acc: 0.7500 - val_aux_output_acc: 1.0000\b\b\b\b\b\b\b\b\b\b\b\b\b\b\b\b\b\b\b\b\b\b\n",
      "Epoch 32/100\n",
      "80/80 [==============================] - 0s 112us/step - loss: 0.1652 - main_output_loss: 0.1646 - aux_output_loss: 0.0030 - main_output_acc: 0.8875 - aux_output_acc: 1.0000 - val_loss: 0.7477 - val_main_output_loss: 0.7472 - val_aux_output_loss: 0.0023 - val_main_output_acc: 0.7500 - val_aux_output_acc: 1.0000\b\b\b\b\b\b\b\b\b\b\b\b\b\b\b\b\b\b\b\b\b\b\n",
      "Epoch 33/100\n",
      "80/80 [==============================] - 0s 112us/step - loss: 0.1648 - main_output_loss: 0.1643 - aux_output_loss: 0.0024 - main_output_acc: 0.8906 - aux_output_acc: 1.0000 - val_loss: 0.7588 - val_main_output_loss: 0.7584 - val_aux_output_loss: 0.0019 - val_main_output_acc: 0.7500 - val_aux_output_acc: 1.0000\b\b\b\b\b\b\b\b\b\b\b\b\b\b\b\b\b\b\b\b\b\b\n",
      "Epoch 34/100\n",
      "80/80 [==============================] - 0s 125us/step - loss: 0.1637 - main_output_loss: 0.1633 - aux_output_loss: 0.0019 - main_output_acc: 0.8844 - aux_output_acc: 1.0000 - val_loss: 0.7969 - val_main_output_loss: 0.7965 - val_aux_output_loss: 0.0016 - val_main_output_acc: 0.7500 - val_aux_output_acc: 1.0000\b\b\b\b\b\b\b\b\b\b\b\b\b\b\b\b\b\b\b\b\b\b\n",
      "Epoch 35/100\n",
      "80/80 [==============================] - 0s 112us/step - loss: 0.1645 - main_output_loss: 0.1642 - aux_output_loss: 0.0016 - main_output_acc: 0.8969 - aux_output_acc: 1.0000 - val_loss: 0.8250 - val_main_output_loss: 0.8247 - val_aux_output_loss: 0.0013 - val_main_output_acc: 0.7500 - val_aux_output_acc: 1.0000\b\b\b\b\b\b\b\b\b\b\b\b\b\b\b\b\b\b\b\b\b\b\n",
      "Epoch 36/100\n",
      "80/80 [==============================] - 0s 112us/step - loss: 0.1627 - main_output_loss: 0.1624 - aux_output_loss: 0.0013 - main_output_acc: 0.8969 - aux_output_acc: 1.0000 - val_loss: 0.8440 - val_main_output_loss: 0.8438 - val_aux_output_loss: 0.0010 - val_main_output_acc: 0.7500 - val_aux_output_acc: 1.0000\b\b\b\b\b\b\b\b\b\b\b\b\b\b\b\b\b\b\b\b\b\b\n",
      "Epoch 37/100\n",
      "80/80 [==============================] - 0s 125us/step - loss: 0.1645 - main_output_loss: 0.1643 - aux_output_loss: 0.0011 - main_output_acc: 0.8781 - aux_output_acc: 1.0000 - val_loss: 0.8678 - val_main_output_loss: 0.8676 - val_aux_output_loss: 8.4645e-04 - val_main_output_acc: 0.7500 - val_aux_output_acc: 1.0000\b\b\b\b\b\b\b\b\b\b\b\b\b\b\b\b\b\b\n",
      "Epoch 38/100\n",
      "80/80 [==============================] - 0s 112us/step - loss: 0.1625 - main_output_loss: 0.1624 - aux_output_loss: 8.7277e-04 - main_output_acc: 0.9062 - aux_output_acc: 1.0000 - val_loss: 0.8935 - val_main_output_loss: 0.8934 - val_aux_output_loss: 6.8287e-04 - val_main_output_acc: 0.7500 - val_aux_output_acc: 1.0000\b\b\b\b\b\b\b\b\b\b\b\b\b\b\b\b\b\b\b\b\b\b\n",
      "Epoch 39/100\n",
      "80/80 [==============================] - 0s 112us/step - loss: 0.1617 - main_output_loss: 0.1615 - aux_output_loss: 7.1322e-04 - main_output_acc: 0.8750 - aux_output_acc: 1.0000 - val_loss: 0.9153 - val_main_output_loss: 0.9152 - val_aux_output_loss: 5.5524e-04 - val_main_output_acc: 0.7500 - val_aux_output_acc: 1.0000\b\b\b\b\b\b\b\b\b\b\b\b\b\b\b\b\b\b\b\b\b\b\n",
      "Epoch 40/100\n",
      "80/80 [==============================] - 0s 125us/step - loss: 0.1622 - main_output_loss: 0.1621 - aux_output_loss: 5.7805e-04 - main_output_acc: 0.9000 - aux_output_acc: 1.0000 - val_loss: 0.9512 - val_main_output_loss: 0.9511 - val_aux_output_loss: 4.6880e-04 - val_main_output_acc: 0.7500 - val_aux_output_acc: 1.0000\b\b\b\b\b\b\b\b\b\b\b\b\b\b\b\b\b\b\b\b\b\b\n",
      "Epoch 41/100\n",
      "80/80 [==============================] - 0s 112us/step - loss: 0.1616 - main_output_loss: 0.1615 - aux_output_loss: 4.8890e-04 - main_output_acc: 0.8906 - aux_output_acc: 1.0000 - val_loss: 0.9826 - val_main_output_loss: 0.9825 - val_aux_output_loss: 3.8916e-04 - val_main_output_acc: 0.7500 - val_aux_output_acc: 1.0000\b\b\b\b\b\b\b\b\b\b\b\b\b\b\b\b\b\b\b\b\b\b\n",
      "Epoch 42/100\n",
      "80/80 [==============================] - 0s 125us/step - loss: 0.1639 - main_output_loss: 0.1638 - aux_output_loss: 3.9205e-04 - main_output_acc: 0.8875 - aux_output_acc: 1.0000 - val_loss: 1.0057 - val_main_output_loss: 1.0057 - val_aux_output_loss: 3.2061e-04 - val_main_output_acc: 0.7500 - val_aux_output_acc: 1.0000\b\b\b\b\b\b\b\b\b\b\b\b\b\b\b\b\b\b\b\b\b\b\n",
      "Epoch 43/100\n",
      "80/80 [==============================] - 0s 125us/step - loss: 0.1621 - main_output_loss: 0.1620 - aux_output_loss: 3.3458e-04 - main_output_acc: 0.8875 - aux_output_acc: 1.0000 - val_loss: 1.0348 - val_main_output_loss: 1.0347 - val_aux_output_loss: 2.6262e-04 - val_main_output_acc: 0.7500 - val_aux_output_acc: 1.0000\b\b\b\b\b\b\b\b\b\b\b\b\b\b\b\b\b\b\b\b\b\b\n",
      "Epoch 44/100\n",
      "80/80 [==============================] - 0s 125us/step - loss: 0.1596 - main_output_loss: 0.1595 - aux_output_loss: 2.7439e-04 - main_output_acc: 0.8969 - aux_output_acc: 1.0000 - val_loss: 1.0619 - val_main_output_loss: 1.0619 - val_aux_output_loss: 2.1321e-04 - val_main_output_acc: 0.7500 - val_aux_output_acc: 1.0000\b\b\b\b\b\b\b\b\b\b\b\b\b\b\b\b\b\b\b\b\b\b\n",
      "Epoch 45/100\n",
      "80/80 [==============================] - 0s 125us/step - loss: 0.1629 - main_output_loss: 0.1629 - aux_output_loss: 2.3079e-04 - main_output_acc: 0.9000 - aux_output_acc: 1.0000 - val_loss: 1.1020 - val_main_output_loss: 1.1020 - val_aux_output_loss: 1.8134e-04 - val_main_output_acc: 0.7500 - val_aux_output_acc: 1.0000\b\b\b\b\b\b\b\b\b\b\b\b\b\b\b\b\b\b\b\b\b\b\n",
      "Epoch 46/100\n",
      "80/80 [==============================] - 0s 125us/step - loss: 0.1617 - main_output_loss: 0.1616 - aux_output_loss: 1.9252e-04 - main_output_acc: 0.8875 - aux_output_acc: 1.0000 - val_loss: 1.1148 - val_main_output_loss: 1.1148 - val_aux_output_loss: 1.5351e-04 - val_main_output_acc: 0.7500 - val_aux_output_acc: 1.0000\b\b\b\b\b\b\b\b\b\b\b\b\b\b\b\b\b\b\b\b\b\b\n",
      "Epoch 47/100\n",
      "80/80 [==============================] - 0s 112us/step - loss: 0.1604 - main_output_loss: 0.1604 - aux_output_loss: 1.6423e-04 - main_output_acc: 0.8938 - aux_output_acc: 1.0000 - val_loss: 1.1448 - val_main_output_loss: 1.1448 - val_aux_output_loss: 1.2767e-04 - val_main_output_acc: 0.7500 - val_aux_output_acc: 1.0000\b\b\b\b\b\b\b\b\b\b\b\b\b\b\b\b\b\b\b\b\b\b\n",
      "Epoch 48/100\n",
      "80/80 [==============================] - 0s 125us/step - loss: 0.1639 - main_output_loss: 0.1639 - aux_output_loss: 1.3889e-04 - main_output_acc: 0.8938 - aux_output_acc: 1.0000 - val_loss: 1.1616 - val_main_output_loss: 1.1615 - val_aux_output_loss: 1.1021e-04 - val_main_output_acc: 0.7500 - val_aux_output_acc: 1.0000\b\b\b\b\b\b\b\b\b\b\b\b\b\b\b\b\b\b\b\b\b\b\n",
      "Epoch 49/100\n",
      "80/80 [==============================] - 0s 125us/step - loss: 0.1606 - main_output_loss: 0.1606 - aux_output_loss: 1.2001e-04 - main_output_acc: 0.9000 - aux_output_acc: 1.0000 - val_loss: 1.1938 - val_main_output_loss: 1.1938 - val_aux_output_loss: 9.1669e-05 - val_main_output_acc: 0.7500 - val_aux_output_acc: 1.0000\b\b\b\b\b\b\b\b\b\b\b\b\b\b\b\b\b\b\b\b\b\b\n",
      "Epoch 50/100\n",
      "80/80 [==============================] - 0s 112us/step - loss: 0.1606 - main_output_loss: 0.1606 - aux_output_loss: 9.9468e-05 - main_output_acc: 0.9031 - aux_output_acc: 1.0000 - val_loss: 1.2199 - val_main_output_loss: 1.2199 - val_aux_output_loss: 7.8541e-05 - val_main_output_acc: 0.7500 - val_aux_output_acc: 1.0000\b\b\b\b\b\b\b\b\b\b\b\b\b\b\b\b\b\b\b\b\b\b\n",
      "Epoch 51/100\n",
      "80/80 [==============================] - 0s 125us/step - loss: 0.1609 - main_output_loss: 0.1608 - aux_output_loss: 8.5549e-05 - main_output_acc: 0.8906 - aux_output_acc: 1.0000 - val_loss: 1.2565 - val_main_output_loss: 1.2564 - val_aux_output_loss: 6.6986e-05 - val_main_output_acc: 0.7500 - val_aux_output_acc: 1.0000\b\b\b\b\b\b\b\b\b\b\b\b\b\b\b\b\b\b\b\b\b\b\n",
      "Epoch 52/100\n",
      "80/80 [==============================] - 0s 125us/step - loss: 0.1625 - main_output_loss: 0.1624 - aux_output_loss: 7.2243e-05 - main_output_acc: 0.8938 - aux_output_acc: 1.0000 - val_loss: 1.2454 - val_main_output_loss: 1.2454 - val_aux_output_loss: 5.6318e-05 - val_main_output_acc: 0.7500 - val_aux_output_acc: 1.0000\b\b\b\b\b\b\b\b\b\b\b\b\b\b\b\b\b\b\b\b\b\b\n",
      "Epoch 53/100\n",
      "80/80 [==============================] - 0s 112us/step - loss: 0.1599 - main_output_loss: 0.1599 - aux_output_loss: 6.2179e-05 - main_output_acc: 0.8938 - aux_output_acc: 1.0000 - val_loss: 1.2695 - val_main_output_loss: 1.2695 - val_aux_output_loss: 4.7904e-05 - val_main_output_acc: 0.7500 - val_aux_output_acc: 1.0000\b\b\b\b\b\b\b\b\b\b\b\b\b\b\b\b\b\b\b\b\b\b\n",
      "Epoch 54/100\n",
      "80/80 [==============================] - 0s 112us/step - loss: 0.1597 - main_output_loss: 0.1597 - aux_output_loss: 5.2843e-05 - main_output_acc: 0.8844 - aux_output_acc: 1.0000 - val_loss: 1.3174 - val_main_output_loss: 1.3174 - val_aux_output_loss: 4.0924e-05 - val_main_output_acc: 0.7500 - val_aux_output_acc: 1.0000\b\b\b\b\b\b\b\b\b\b\b\b\b\b\b\b\b\b\b\b\b\b\n",
      "Epoch 55/100\n",
      "80/80 [==============================] - 0s 125us/step - loss: 0.1626 - main_output_loss: 0.1626 - aux_output_loss: 4.6555e-05 - main_output_acc: 0.8875 - aux_output_acc: 1.0000 - val_loss: 1.3341 - val_main_output_loss: 1.3341 - val_aux_output_loss: 3.5837e-05 - val_main_output_acc: 0.7500 - val_aux_output_acc: 1.0000\b\b\b\b\b\b\b\b\b\b\b\b\b\b\b\b\b\b\b\b\b\b\n",
      "Epoch 56/100\n",
      "80/80 [==============================] - 0s 125us/step - loss: 0.1613 - main_output_loss: 0.1613 - aux_output_loss: 4.0130e-05 - main_output_acc: 0.8938 - aux_output_acc: 1.0000 - val_loss: 1.3573 - val_main_output_loss: 1.3573 - val_aux_output_loss: 3.1669e-05 - val_main_output_acc: 0.7500 - val_aux_output_acc: 1.0000\b\b\b\b\b\b\b\b\b\b\b\b\b\b\b\b\b\b\b\b\b\b\n",
      "Epoch 57/100\n",
      "80/80 [==============================] - 0s 150us/step - loss: 0.1610 - main_output_loss: 0.1610 - aux_output_loss: 3.4986e-05 - main_output_acc: 0.8812 - aux_output_acc: 1.0000 - val_loss: 1.3917 - val_main_output_loss: 1.3917 - val_aux_output_loss: 2.6754e-05 - val_main_output_acc: 0.7500 - val_aux_output_acc: 1.0000\b\b\b\b\b\b\b\b\b\b\b\b\b\b\b\b\b\b\b\b\b\b\n",
      "Epoch 58/100\n",
      "80/80 [==============================] - 0s 150us/step - loss: 0.1606 - main_output_loss: 0.1606 - aux_output_loss: 3.0296e-05 - main_output_acc: 0.8875 - aux_output_acc: 1.0000 - val_loss: 1.4432 - val_main_output_loss: 1.4432 - val_aux_output_loss: 2.3068e-05 - val_main_output_acc: 0.7500 - val_aux_output_acc: 1.0000\b\b\b\b\b\b\b\b\b\b\b\b\b\b\b\b\b\b\b\b\b\b\n",
      "Epoch 59/100\n",
      "80/80 [==============================] - 0s 150us/step - loss: 0.1613 - main_output_loss: 0.1613 - aux_output_loss: 2.6355e-05 - main_output_acc: 0.8875 - aux_output_acc: 1.0000 - val_loss: 1.4586 - val_main_output_loss: 1.4586 - val_aux_output_loss: 1.9889e-05 - val_main_output_acc: 0.7500 - val_aux_output_acc: 1.0000\b\b\b\b\b\b\b\b\b\b\b\b\b\b\b\b\b\b\b\b\b\b\n",
      "Epoch 60/100\n",
      "80/80 [==============================] - 0s 137us/step - loss: 0.1608 - main_output_loss: 0.1608 - aux_output_loss: 2.2814e-05 - main_output_acc: 0.8969 - aux_output_acc: 1.0000 - val_loss: 1.5028 - val_main_output_loss: 1.5028 - val_aux_output_loss: 1.7499e-05 - val_main_output_acc: 0.7500 - val_aux_output_acc: 1.0000\b\b\b\b\b\b\b\b\b\b\b\b\b\b\b\b\b\b\b\b\b\b\n",
      "Epoch 61/100\n",
      "80/80 [==============================] - 0s 125us/step - loss: 0.1604 - main_output_loss: 0.1604 - aux_output_loss: 1.9993e-05 - main_output_acc: 0.9000 - aux_output_acc: 1.0000 - val_loss: 1.5030 - val_main_output_loss: 1.5030 - val_aux_output_loss: 1.5465e-05 - val_main_output_acc: 0.7500 - val_aux_output_acc: 1.0000\b\b\b\b\b\b\b\b\b\b\b\b\b\b\b\b\b\b\b\b\b\b\n",
      "Epoch 62/100\n",
      "80/80 [==============================] - 0s 125us/step - loss: 0.1595 - main_output_loss: 0.1595 - aux_output_loss: 1.7354e-05 - main_output_acc: 0.9000 - aux_output_acc: 1.0000 - val_loss: 1.5450 - val_main_output_loss: 1.5450 - val_aux_output_loss: 1.3056e-05 - val_main_output_acc: 0.7500 - val_aux_output_acc: 1.0000\b\b\b\b\b\b\b\b\b\b\b\b\b\b\b\b\b\b\b\b\b\b\n",
      "Epoch 63/100\n",
      "80/80 [==============================] - 0s 125us/step - loss: 0.1608 - main_output_loss: 0.1608 - aux_output_loss: 1.4777e-05 - main_output_acc: 0.9062 - aux_output_acc: 1.0000 - val_loss: 1.5783 - val_main_output_loss: 1.5783 - val_aux_output_loss: 1.1302e-05 - val_main_output_acc: 0.7500 - val_aux_output_acc: 1.0000\b\b\b\b\b\b\b\b\b\b\b\b\b\b\b\b\b\b\b\b\b\b\n",
      "Epoch 64/100\n",
      "80/80 [==============================] - 0s 125us/step - loss: 0.1621 - main_output_loss: 0.1621 - aux_output_loss: 1.2892e-05 - main_output_acc: 0.8875 - aux_output_acc: 1.0000 - val_loss: 1.6040 - val_main_output_loss: 1.6040 - val_aux_output_loss: 1.0013e-05 - val_main_output_acc: 0.7500 - val_aux_output_acc: 1.0000\b\b\b\b\b\b\b\b\b\b\b\b\b\b\b\b\b\b\b\b\b\b\n",
      "Epoch 65/100\n",
      "80/80 [==============================] - 0s 112us/step - loss: 0.1604 - main_output_loss: 0.1604 - aux_output_loss: 1.1524e-05 - main_output_acc: 0.8844 - aux_output_acc: 1.0000 - val_loss: 1.6208 - val_main_output_loss: 1.6208 - val_aux_output_loss: 8.7549e-06 - val_main_output_acc: 0.7500 - val_aux_output_acc: 1.0000\b\b\b\b\b\b\b\b\b\b\b\b\b\b\b\b\b\b\b\b\b\b\n",
      "Epoch 66/100\n",
      "80/80 [==============================] - 0s 125us/step - loss: 0.1615 - main_output_loss: 0.1615 - aux_output_loss: 1.0439e-05 - main_output_acc: 0.8875 - aux_output_acc: 1.0000 - val_loss: 1.6548 - val_main_output_loss: 1.6548 - val_aux_output_loss: 7.8466e-06 - val_main_output_acc: 0.7500 - val_aux_output_acc: 1.0000\b\b\b\b\b\b\b\b\b\b\b\b\b\b\b\b\b\b\b\b\b\b\n",
      "Epoch 67/100\n",
      "80/80 [==============================] - 0s 125us/step - loss: 0.1613 - main_output_loss: 0.1613 - aux_output_loss: 9.2774e-06 - main_output_acc: 0.8938 - aux_output_acc: 1.0000 - val_loss: 1.7065 - val_main_output_loss: 1.7065 - val_aux_output_loss: 6.8209e-06 - val_main_output_acc: 0.7500 - val_aux_output_acc: 1.0000\b\b\b\b\b\b\b\b\b\b\b\b\b\b\b\b\b\b\b\b\b\b\n",
      "Epoch 68/100\n",
      "80/80 [==============================] - 0s 125us/step - loss: 0.1612 - main_output_loss: 0.1612 - aux_output_loss: 7.9894e-06 - main_output_acc: 0.8906 - aux_output_acc: 1.0000 - val_loss: 1.7307 - val_main_output_loss: 1.7307 - val_aux_output_loss: 6.0625e-06 - val_main_output_acc: 0.7500 - val_aux_output_acc: 1.0000\b\b\b\b\b\b\b\b\b\b\b\b\b\b\b\b\b\b\b\b\b\b\n",
      "Epoch 69/100\n",
      "80/80 [==============================] - 0s 125us/step - loss: 0.1611 - main_output_loss: 0.1611 - aux_output_loss: 7.1509e-06 - main_output_acc: 0.8812 - aux_output_acc: 1.0000 - val_loss: 1.7867 - val_main_output_loss: 1.7867 - val_aux_output_loss: 5.3161e-06 - val_main_output_acc: 0.7500 - val_aux_output_acc: 1.0000\b\b\b\b\b\b\b\b\b\b\b\b\b\b\b\b\b\b\b\b\b\b\n",
      "Epoch 70/100\n",
      "80/80 [==============================] - 0s 112us/step - loss: 0.1603 - main_output_loss: 0.1603 - aux_output_loss: 6.3801e-06 - main_output_acc: 0.8938 - aux_output_acc: 1.0000 - val_loss: 1.8181 - val_main_output_loss: 1.8181 - val_aux_output_loss: 4.6140e-06 - val_main_output_acc: 0.7500 - val_aux_output_acc: 1.0000\b\b\b\b\b\b\b\b\b\b\b\b\b\b\b\b\b\b\b\b\b\b\n",
      "Epoch 71/100\n",
      "80/80 [==============================] - 0s 125us/step - loss: 0.1608 - main_output_loss: 0.1608 - aux_output_loss: 5.6202e-06 - main_output_acc: 0.8906 - aux_output_acc: 1.0000 - val_loss: 1.8299 - val_main_output_loss: 1.8299 - val_aux_output_loss: 4.1687e-06 - val_main_output_acc: 0.7500 - val_aux_output_acc: 1.0000\b\b\b\b\b\b\b\b\b\b\b\b\b\b\b\b\b\b\b\b\b\b\n",
      "Epoch 72/100\n",
      "80/80 [==============================] - 0s 125us/step - loss: 0.1599 - main_output_loss: 0.1599 - aux_output_loss: 5.0886e-06 - main_output_acc: 0.9125 - aux_output_acc: 1.0000 - val_loss: 1.8658 - val_main_output_loss: 1.8658 - val_aux_output_loss: 3.5869e-06 - val_main_output_acc: 0.7500 - val_aux_output_acc: 1.0000\b\b\b\b\b\b\b\b\b\b\b\b\b\b\b\b\b\b\b\b\b\b\n",
      "Epoch 73/100\n",
      "80/80 [==============================] - 0s 112us/step - loss: 0.1614 - main_output_loss: 0.1614 - aux_output_loss: 4.4979e-06 - main_output_acc: 0.8875 - aux_output_acc: 1.0000 - val_loss: 1.8927 - val_main_output_loss: 1.8927 - val_aux_output_loss: 3.2223e-06 - val_main_output_acc: 0.7500 - val_aux_output_acc: 1.0000\b\b\b\b\b\b\b\b\b\b\b\b\b\b\b\b\b\b\b\b\b\b\n",
      "Epoch 74/100\n",
      "80/80 [==============================] - 0s 125us/step - loss: 0.1594 - main_output_loss: 0.1594 - aux_output_loss: 4.0120e-06 - main_output_acc: 0.8875 - aux_output_acc: 1.0000 - val_loss: 1.9076 - val_main_output_loss: 1.9076 - val_aux_output_loss: 2.7869e-06 - val_main_output_acc: 0.7500 - val_aux_output_acc: 1.0000\b\b\b\b\b\b\b\b\b\b\b\b\b\b\b\b\b\b\b\b\b\b\n",
      "Epoch 75/100\n",
      "80/80 [==============================] - 0s 125us/step - loss: 0.1598 - main_output_loss: 0.1598 - aux_output_loss: 3.3947e-06 - main_output_acc: 0.8938 - aux_output_acc: 1.0000 - val_loss: 1.8928 - val_main_output_loss: 1.8928 - val_aux_output_loss: 2.5158e-06 - val_main_output_acc: 0.7500 - val_aux_output_acc: 1.0000\b\b\b\b\b\b\b\b\b\b\b\b\b\b\b\b\b\b\b\b\b\b\n",
      "Epoch 76/100\n",
      "80/80 [==============================] - 0s 150us/step - loss: 0.1605 - main_output_loss: 0.1605 - aux_output_loss: 3.1173e-06 - main_output_acc: 0.9000 - aux_output_acc: 1.0000 - val_loss: 1.9313 - val_main_output_loss: 1.9313 - val_aux_output_loss: 2.1924e-06 - val_main_output_acc: 0.7500 - val_aux_output_acc: 1.0000\b\b\b\b\b\b\b\b\b\b\b\b\b\b\b\b\b\b\b\b\b\b\n",
      "Epoch 77/100\n",
      "80/80 [==============================] - 0s 125us/step - loss: 0.1616 - main_output_loss: 0.1616 - aux_output_loss: 2.8295e-06 - main_output_acc: 0.8875 - aux_output_acc: 1.0000 - val_loss: 1.9611 - val_main_output_loss: 1.9611 - val_aux_output_loss: 2.0115e-06 - val_main_output_acc: 0.7500 - val_aux_output_acc: 1.0000\b\b\b\b\b\b\b\b\b\b\b\b\b\b\b\b\b\b\b\b\b\b\n",
      "Epoch 78/100\n",
      "80/80 [==============================] - 0s 125us/step - loss: 0.1613 - main_output_loss: 0.1613 - aux_output_loss: 2.5487e-06 - main_output_acc: 0.8875 - aux_output_acc: 1.0000 - val_loss: 1.9844 - val_main_output_loss: 1.9844 - val_aux_output_loss: 1.8398e-06 - val_main_output_acc: 0.7500 - val_aux_output_acc: 1.0000\b\b\b\b\b\b\b\b\b\b\b\b\b\b\b\b\b\b\b\b\b\b\n",
      "Epoch 79/100\n",
      "80/80 [==============================] - 0s 125us/step - loss: 0.1601 - main_output_loss: 0.1601 - aux_output_loss: 2.3565e-06 - main_output_acc: 0.8938 - aux_output_acc: 1.0000 - val_loss: 1.9941 - val_main_output_loss: 1.9941 - val_aux_output_loss: 1.6515e-06 - val_main_output_acc: 0.7500 - val_aux_output_acc: 1.0000\b\b\b\b\b\b\b\b\b\b\b\b\b\b\b\b\b\b\b\b\b\b\n",
      "Epoch 80/100\n",
      "80/80 [==============================] - 0s 112us/step - loss: 0.1601 - main_output_loss: 0.1601 - aux_output_loss: 2.1758e-06 - main_output_acc: 0.8906 - aux_output_acc: 1.0000 - val_loss: 2.0188 - val_main_output_loss: 2.0188 - val_aux_output_loss: 1.4901e-06 - val_main_output_acc: 0.7500 - val_aux_output_acc: 1.0000\b\b\b\b\b\b\b\b\b\b\b\b\b\b\b\b\b\b\b\b\b\b\n",
      "Epoch 81/100\n",
      "80/80 [==============================] - 0s 125us/step - loss: 0.1604 - main_output_loss: 0.1604 - aux_output_loss: 1.9031e-06 - main_output_acc: 0.8969 - aux_output_acc: 1.0000 - val_loss: 2.0654 - val_main_output_loss: 2.0654 - val_aux_output_loss: 1.3808e-06 - val_main_output_acc: 0.7500 - val_aux_output_acc: 1.0000\b\b\b\b\b\b\b\b\b\b\b\b\b\b\b\b\b\b\b\b\b\b\n",
      "Epoch 82/100\n",
      "80/80 [==============================] - 0s 125us/step - loss: 0.1611 - main_output_loss: 0.1611 - aux_output_loss: 1.8040e-06 - main_output_acc: 0.8875 - aux_output_acc: 1.0000 - val_loss: 2.0816 - val_main_output_loss: 2.0816 - val_aux_output_loss: 1.2832e-06 - val_main_output_acc: 0.7500 - val_aux_output_acc: 1.0000\b\b\b\b\b\b\b\b\b\b\b\b\b\b\b\b\b\b\b\b\b\b\n",
      "Epoch 83/100\n",
      "80/80 [==============================] - 0s 112us/step - loss: 0.1603 - main_output_loss: 0.1603 - aux_output_loss: 1.6641e-06 - main_output_acc: 0.8938 - aux_output_acc: 1.0000 - val_loss: 2.0899 - val_main_output_loss: 2.0899 - val_aux_output_loss: 1.1872e-06 - val_main_output_acc: 0.7500 - val_aux_output_acc: 1.0000\b\b\b\b\b\b\b\b\b\b\b\b\b\b\b\b\b\b\b\b\b\b\n",
      "Epoch 84/100\n",
      "80/80 [==============================] - 0s 125us/step - loss: 0.1605 - main_output_loss: 0.1605 - aux_output_loss: 1.5573e-06 - main_output_acc: 0.9000 - aux_output_acc: 1.0000 - val_loss: 2.1356 - val_main_output_loss: 2.1356 - val_aux_output_loss: 1.0871e-06 - val_main_output_acc: 0.7500 - val_aux_output_acc: 1.0000\b\b\b\b\b\b\b\b\b\b\b\b\b\b\b\b\b\b\b\b\b\b\n",
      "Epoch 85/100\n",
      "80/80 [==============================] - 0s 125us/step - loss: 0.1604 - main_output_loss: 0.1604 - aux_output_loss: 1.4226e-06 - main_output_acc: 0.9062 - aux_output_acc: 1.0000 - val_loss: 2.1610 - val_main_output_loss: 2.1610 - val_aux_output_loss: 9.8304e-07 - val_main_output_acc: 0.7500 - val_aux_output_acc: 1.0000\b\b\b\b\b\b\b\b\b\b\b\b\b\b\b\b\b\b\b\b\b\b\n",
      "Epoch 86/100\n",
      "80/80 [==============================] - 0s 112us/step - loss: 0.1613 - main_output_loss: 0.1613 - aux_output_loss: 1.2726e-06 - main_output_acc: 0.8812 - aux_output_acc: 1.0000 - val_loss: 2.1964 - val_main_output_loss: 2.1964 - val_aux_output_loss: 9.3337e-07 - val_main_output_acc: 0.7500 - val_aux_output_acc: 1.0000\b\b\b\b\b\b\b\b\b\b\b\b\b\b\b\b\b\b\b\b\b\b\n",
      "Epoch 87/100\n",
      "80/80 [==============================] - 0s 125us/step - loss: 0.1610 - main_output_loss: 0.1610 - aux_output_loss: 1.2408e-06 - main_output_acc: 0.8844 - aux_output_acc: 1.0000 - val_loss: 2.2129 - val_main_output_loss: 2.2129 - val_aux_output_loss: 8.7006e-07 - val_main_output_acc: 0.7500 - val_aux_output_acc: 1.0000\b\b\b\b\b\b\b\b\b\b\b\b\b\b\b\b\b\b\b\b\b\b\n",
      "Epoch 88/100\n",
      "80/80 [==============================] - 0s 125us/step - loss: 0.1607 - main_output_loss: 0.1607 - aux_output_loss: 1.1714e-06 - main_output_acc: 0.8906 - aux_output_acc: 1.0000 - val_loss: 2.2491 - val_main_output_loss: 2.2491 - val_aux_output_loss: 8.1129e-07 - val_main_output_acc: 0.7500 - val_aux_output_acc: 1.0000\b\b\b\b\b\b\b\b\b\b\b\b\b\b\b\b\b\b\b\b\b\b\n",
      "Epoch 89/100\n",
      "80/80 [==============================] - 0s 125us/step - loss: 0.1604 - main_output_loss: 0.1604 - aux_output_loss: 1.0837e-06 - main_output_acc: 0.8844 - aux_output_acc: 1.0000 - val_loss: 2.2748 - val_main_output_loss: 2.2748 - val_aux_output_loss: 7.5167e-07 - val_main_output_acc: 0.7500 - val_aux_output_acc: 1.0000\b\b\b\b\b\b\b\b\b\b\b\b\b\b\b\b\b\b\b\b\b\b\n",
      "Epoch 90/100\n",
      "80/80 [==============================] - 0s 125us/step - loss: 0.1607 - main_output_loss: 0.1607 - aux_output_loss: 1.0351e-06 - main_output_acc: 0.9000 - aux_output_acc: 1.0000 - val_loss: 2.2937 - val_main_output_loss: 2.2937 - val_aux_output_loss: 6.8678e-07 - val_main_output_acc: 0.7500 - val_aux_output_acc: 1.0000\b\b\b\b\b\b\b\b\b\b\b\b\b\b\b\b\b\b\b\b\b\b\n",
      "Epoch 91/100\n",
      "80/80 [==============================] - 0s 112us/step - loss: 0.1607 - main_output_loss: 0.1607 - aux_output_loss: 8.9405e-07 - main_output_acc: 0.8875 - aux_output_acc: 1.0000 - val_loss: 2.2922 - val_main_output_loss: 2.2922 - val_aux_output_loss: 6.1335e-07 - val_main_output_acc: 0.7500 - val_aux_output_acc: 1.0000\b\b\b\b\b\b\b\b\b\b\b\b\b\b\b\b\b\b\b\b\b\b\n",
      "Epoch 92/100\n",
      "80/80 [==============================] - 0s 125us/step - loss: 0.1598 - main_output_loss: 0.1598 - aux_output_loss: 8.2245e-07 - main_output_acc: 0.9000 - aux_output_acc: 1.0000 - val_loss: 2.3091 - val_main_output_loss: 2.3091 - val_aux_output_loss: 5.6986e-07 - val_main_output_acc: 0.7500 - val_aux_output_acc: 1.0000\b\b\b\b\b\b\b\b\b\b\b\b\b\b\b\b\b\b\b\b\b\b\n",
      "Epoch 93/100\n",
      "80/80 [==============================] - 0s 125us/step - loss: 0.1599 - main_output_loss: 0.1599 - aux_output_loss: 7.6639e-07 - main_output_acc: 0.8938 - aux_output_acc: 1.0000 - val_loss: 2.3094 - val_main_output_loss: 2.3094 - val_aux_output_loss: 5.3037e-07 - val_main_output_acc: 0.7500 - val_aux_output_acc: 1.0000\b\b\b\b\b\b\b\b\b\b\b\b\b\b\b\b\b\b\b\b\b\b\n",
      "Epoch 94/100\n",
      "80/80 [==============================] - 0s 125us/step - loss: 0.1610 - main_output_loss: 0.1610 - aux_output_loss: 7.1230e-07 - main_output_acc: 0.8875 - aux_output_acc: 1.0000 - val_loss: 2.3353 - val_main_output_loss: 2.3353 - val_aux_output_loss: 5.1873e-07 - val_main_output_acc: 0.7500 - val_aux_output_acc: 1.0000\b\b\b\b\b\b\b\b\b\b\b\b\b\b\b\b\b\b\b\b\b\b\n",
      "Epoch 95/100\n",
      "80/80 [==============================] - 0s 125us/step - loss: 0.1602 - main_output_loss: 0.1602 - aux_output_loss: 6.9444e-07 - main_output_acc: 0.9062 - aux_output_acc: 1.0000 - val_loss: 2.3568 - val_main_output_loss: 2.3568 - val_aux_output_loss: 4.7002e-07 - val_main_output_acc: 0.7500 - val_aux_output_acc: 1.0000\b\b\b\b\b\b\b\b\b\b\b\b\b\b\b\b\b\b\b\b\b\b\n",
      "Epoch 96/100\n",
      "80/80 [==============================] - 0s 125us/step - loss: 0.1606 - main_output_loss: 0.1606 - aux_output_loss: 6.4172e-07 - main_output_acc: 0.8781 - aux_output_acc: 1.0000 - val_loss: 2.3516 - val_main_output_loss: 2.3516 - val_aux_output_loss: 4.5843e-07 - val_main_output_acc: 0.7500 - val_aux_output_acc: 1.0000\b\b\b\b\b\b\b\b\b\b\b\b\b\b\b\b\b\b\b\b\b\b\n",
      "Epoch 97/100\n",
      "80/80 [==============================] - 0s 125us/step - loss: 0.1609 - main_output_loss: 0.1609 - aux_output_loss: 6.3004e-07 - main_output_acc: 0.8875 - aux_output_acc: 1.0000 - val_loss: 2.3632 - val_main_output_loss: 2.3632 - val_aux_output_loss: 4.4220e-07 - val_main_output_acc: 0.7500 - val_aux_output_acc: 1.0000\b\b\b\b\b\b\b\b\b\b\b\b\b\b\b\b\b\b\b\b\b\b\n",
      "Epoch 98/100\n",
      "80/80 [==============================] - 0s 112us/step - loss: 0.1609 - main_output_loss: 0.1609 - aux_output_loss: 5.8630e-07 - main_output_acc: 0.9000 - aux_output_acc: 1.0000 - val_loss: 2.3789 - val_main_output_loss: 2.3789 - val_aux_output_loss: 4.2841e-07 - val_main_output_acc: 0.7500 - val_aux_output_acc: 1.0000\b\b\b\b\b\b\b\b\b\b\b\b\b\b\b\b\b\b\b\b\b\b\n",
      "Epoch 99/100\n",
      "80/80 [==============================] - 0s 112us/step - loss: 0.1597 - main_output_loss: 0.1597 - aux_output_loss: 5.7690e-07 - main_output_acc: 0.8969 - aux_output_acc: 1.0000 - val_loss: 2.4006 - val_main_output_loss: 2.4006 - val_aux_output_loss: 4.0472e-07 - val_main_output_acc: 0.7500 - val_aux_output_acc: 1.0000\b\b\b\b\b\b\b\b\b\b\b\b\b\b\b\b\b\b\b\b\b\b\n",
      "Epoch 100/100\n",
      "80/80 [==============================] - 0s 125us/step - loss: 0.1603 - main_output_loss: 0.1603 - aux_output_loss: 5.6769e-07 - main_output_acc: 0.8812 - aux_output_acc: 1.0000 - val_loss: 2.4284 - val_main_output_loss: 2.4284 - val_aux_output_loss: 3.9097e-07 - val_main_output_acc: 0.7500 - val_aux_output_acc: 1.0000\b\b\b\b\b\b\b\b\b\b\b\b\b\b\b\b\b\b\b\b\b\b\n"
     ]
    },
    {
     "data": {
      "text/plain": [
       "<tensorflow.python.keras.callbacks.History at 0x28e7b5e7be0>"
      ]
     },
     "execution_count": 139,
     "metadata": {},
     "output_type": "execute_result"
    }
   ],
   "source": [
    "model.fit([inputs_data, optional_input], [output_data, optional_output], \n",
    "          epochs=100, \n",
    "          batch_size=8, \n",
    "          validation_split=0.2)"
   ]
  },
  {
   "cell_type": "markdown",
   "metadata": {},
   "source": [
    "### Inference"
   ]
  },
  {
   "cell_type": "code",
   "execution_count": 140,
   "metadata": {
    "collapsed": true
   },
   "outputs": [],
   "source": [
    "assertion, option = model.predict([inputs_data[-1:], optional_input[-1:]])"
   ]
  },
  {
   "cell_type": "code",
   "execution_count": 141,
   "metadata": {
    "collapsed": false
   },
   "outputs": [
    {
     "data": {
      "text/plain": [
       "array([[9.8692752e-08, 2.0761082e-12, 9.9999988e-01, 3.2857939e-10]],\n",
       "      dtype=float32)"
      ]
     },
     "execution_count": 141,
     "metadata": {},
     "output_type": "execute_result"
    }
   ],
   "source": [
    "assertion"
   ]
  },
  {
   "cell_type": "code",
   "execution_count": 142,
   "metadata": {
    "collapsed": false
   },
   "outputs": [
    {
     "data": {
      "text/plain": [
       "array([[1.]], dtype=float32)"
      ]
     },
     "execution_count": 142,
     "metadata": {},
     "output_type": "execute_result"
    }
   ],
   "source": [
    "option"
   ]
  },
  {
   "cell_type": "code",
   "execution_count": 147,
   "metadata": {
    "collapsed": true
   },
   "outputs": [],
   "source": [
    "rev_assertion_dict = {i:x for i,x in enumerate(sorted(list(set(assertions))))}"
   ]
  },
  {
   "cell_type": "code",
   "execution_count": 148,
   "metadata": {
    "collapsed": false
   },
   "outputs": [
    {
     "data": {
      "text/plain": [
       "'assertNotEqual'"
      ]
     },
     "execution_count": 148,
     "metadata": {},
     "output_type": "execute_result"
    }
   ],
   "source": [
    "rev_assertion_dict[np.argmax(assertion)]"
   ]
  },
  {
   "cell_type": "code",
   "execution_count": 155,
   "metadata": {
    "collapsed": false
   },
   "outputs": [
    {
     "data": {
      "text/plain": [
       "[',0']"
      ]
     },
     "execution_count": 155,
     "metadata": {},
     "output_type": "execute_result"
    }
   ],
   "source": [
    "[x if np.round(option) else '' for x in optional_results[-1:] ]"
   ]
  },
  {
   "cell_type": "code",
   "execution_count": 159,
   "metadata": {
    "collapsed": false
   },
   "outputs": [
    {
     "name": "stdout",
     "output_type": "stream",
     "text": [
      "    def test_fxxtija_vmy(self):\n",
      "        self.assertNotEqual(fxxtija_vmy(45),0)\n"
     ]
    }
   ],
   "source": [
    "#target\n",
    "print('    def test_' + \n",
    "      test_names[-1:][0] +\n",
    "      '(self):'+ \n",
    "      '\\n        self.' + \n",
    "      rev_assertion_dict[np.argmax(assertion)] + \n",
    "      '(' + fn_signatures[-1:][0] + \n",
    "      [x if np.round(option) else '' for x in optional_results[-1:]][0] + ')')"
   ]
  },
  {
   "cell_type": "code",
   "execution_count": null,
   "metadata": {
    "collapsed": true
   },
   "outputs": [],
   "source": []
  }
 ],
 "metadata": {
  "kernelspec": {
   "display_name": "Python 3.6 (AI_testing)",
   "language": "python",
   "name": "ait"
  },
  "language_info": {
   "codemirror_mode": {
    "name": "ipython",
    "version": 3
   },
   "file_extension": ".py",
   "mimetype": "text/x-python",
   "name": "python",
   "nbconvert_exporter": "python",
   "pygments_lexer": "ipython3",
   "version": "3.6.3"
  }
 },
 "nbformat": 4,
 "nbformat_minor": 2
}
